{
 "cells": [
  {
   "cell_type": "code",
   "execution_count": null,
   "id": "08e4f102",
   "metadata": {},
   "outputs": [],
   "source": []
  },
  {
   "cell_type": "code",
   "execution_count": null,
   "id": "897a623e",
   "metadata": {},
   "outputs": [],
   "source": []
  },
  {
   "cell_type": "markdown",
   "id": "b988ef40",
   "metadata": {},
   "source": [
    "# Dictionary"
   ]
  },
  {
   "cell_type": "code",
   "execution_count": 19,
   "id": "620f58e9",
   "metadata": {},
   "outputs": [
    {
     "name": "stdout",
     "output_type": "stream",
     "text": [
      "a 0\n",
      "b 1\n"
     ]
    }
   ],
   "source": [
    "a = {\"a\": 0, \"b\": 1}\n",
    "for key in sorted(a.keys()):\n",
    "    print(key, a[key])"
   ]
  },
  {
   "cell_type": "code",
   "execution_count": 26,
   "id": "84ecf9b1",
   "metadata": {},
   "outputs": [
    {
     "name": "stdout",
     "output_type": "stream",
     "text": [
      "the\n"
     ]
    }
   ],
   "source": [
    "txt = \"\"\"To help locate the contribution of the present paper in the scientific literature we briefly review and compare some of the geometrical approaches to statistical mechanics that are most relevant for our argument. A line of research initiated by the influential papers of Wheinhold [5] and Ruppeiner [6] investigates the Riemannian metric structure on parameter space related to the Boltzmann-Gibbs canonical distribution. This Riemannian metric is the one defined by the Hessian matrix of the free energy ψ = log Z (which coincides with the Fisher metric) with respect to the canonical parameters or by its inverse which is the Hessian of the entropy S, related to ψ by the Legendre transform. The Levi- Civita connection with respect to this m\"\"\"\n",
    "words = txt.split()\n",
    "word_freq = dict()\n",
    "for word in words: \n",
    "    if word not in word_freq:\n",
    "        word_freq[word] = 1\n",
    "    else:\n",
    "        word_freq[word] += 1\n",
    "        \n",
    "\n",
    "most_freq_word = words[0]\n",
    "freq = word_freq[most_freq_word]\n",
    "for word, current_freq in word_freq.items():\n",
    "    if current_freq > freq:\n",
    "        most_freq_word = word\n",
    "        freq = current_freq\n",
    "print(most_freq_word)"
   ]
  },
  {
   "cell_type": "code",
   "execution_count": 30,
   "id": "387d00fa",
   "metadata": {},
   "outputs": [
    {
     "data": {
      "text/plain": [
       "False"
      ]
     },
     "execution_count": 30,
     "metadata": {},
     "output_type": "execute_result"
    }
   ],
   "source": [
    "x = [1, 2, 3, 4, 8]\n",
    "9 in x"
   ]
  },
  {
   "cell_type": "code",
   "execution_count": 34,
   "id": "bf1a524c",
   "metadata": {},
   "outputs": [
    {
     "data": {
      "text/plain": [
       "{3, 4, 5}"
      ]
     },
     "execution_count": 34,
     "metadata": {},
     "output_type": "execute_result"
    }
   ],
   "source": [
    "y = {3, 4}\n",
    "y.add(5)\n",
    "y"
   ]
  },
  {
   "cell_type": "code",
   "execution_count": 47,
   "id": "d2e0c8c1",
   "metadata": {},
   "outputs": [
    {
     "name": "stdout",
     "output_type": "stream",
     "text": [
      "0\n",
      "1\n",
      "2\n"
     ]
    },
    {
     "data": {
      "text/plain": [
       "2"
      ]
     },
     "execution_count": 47,
     "metadata": {},
     "output_type": "execute_result"
    }
   ],
   "source": [
    "\n",
    "for i in \"abc\":\n",
    "    \n",
    "    pass\n",
    "    \n",
    "for i in range(3):\n",
    "    print(i)\n",
    "i"
   ]
  },
  {
   "cell_type": "code",
   "execution_count": 44,
   "id": "9f351fba",
   "metadata": {},
   "outputs": [
    {
     "data": {
      "text/plain": [
       "0"
      ]
     },
     "execution_count": 44,
     "metadata": {},
     "output_type": "execute_result"
    }
   ],
   "source": [
    "iter1 = iter(range(3))\n",
    "next(iter1)"
   ]
  },
  {
   "cell_type": "code",
   "execution_count": 48,
   "id": "543cb02f",
   "metadata": {},
   "outputs": [],
   "source": [
    "file = open(\"README.md\")"
   ]
  },
  {
   "cell_type": "code",
   "execution_count": 49,
   "id": "bcc6eb93",
   "metadata": {},
   "outputs": [
    {
     "data": {
      "text/plain": [
       "_io.TextIOWrapper"
      ]
     },
     "execution_count": 49,
     "metadata": {},
     "output_type": "execute_result"
    }
   ],
   "source": [
    "type(file)"
   ]
  },
  {
   "cell_type": "code",
   "execution_count": 50,
   "id": "5b083748",
   "metadata": {},
   "outputs": [
    {
     "data": {
      "text/plain": [
       "'# BUSA_2022_programming\\n'"
      ]
     },
     "execution_count": 50,
     "metadata": {},
     "output_type": "execute_result"
    }
   ],
   "source": [
    "file.readline()"
   ]
  },
  {
   "cell_type": "code",
   "execution_count": 51,
   "id": "a468b48e",
   "metadata": {},
   "outputs": [
    {
     "data": {
      "text/plain": [
       "'Tutoring materials for Python programming course in Melbourne Business School (2022)\\n'"
      ]
     },
     "execution_count": 51,
     "metadata": {},
     "output_type": "execute_result"
    }
   ],
   "source": [
    "file.readline()"
   ]
  },
  {
   "cell_type": "code",
   "execution_count": 52,
   "id": "1f814639",
   "metadata": {},
   "outputs": [
    {
     "name": "stdout",
     "output_type": "stream",
     "text": [
      "this is a line\n",
      "this is another\n"
     ]
    }
   ],
   "source": [
    "print(\"this is a line\\nthis is another\")"
   ]
  },
  {
   "cell_type": "code",
   "execution_count": 54,
   "id": "2fe773ec",
   "metadata": {},
   "outputs": [
    {
     "data": {
      "text/plain": [
       "''"
      ]
     },
     "execution_count": 54,
     "metadata": {},
     "output_type": "execute_result"
    }
   ],
   "source": [
    "file.readline()"
   ]
  },
  {
   "cell_type": "code",
   "execution_count": 56,
   "id": "df149e25",
   "metadata": {},
   "outputs": [
    {
     "data": {
      "text/plain": [
       "'# BUSA_2022_programming\\n'"
      ]
     },
     "execution_count": 56,
     "metadata": {},
     "output_type": "execute_result"
    }
   ],
   "source": [
    "file = open(\"README.md\")\n",
    "next(file)"
   ]
  },
  {
   "cell_type": "markdown",
   "id": "3d8ee60a",
   "metadata": {},
   "source": [
    "list, \n",
    "string, \n",
    "dict, \n",
    "set, \n",
    "tuple, \n",
    "range, \n"
   ]
  },
  {
   "cell_type": "code",
   "execution_count": 58,
   "id": "706eb732",
   "metadata": {},
   "outputs": [
    {
     "data": {
      "text/plain": [
       "dict_keys([1, 2])"
      ]
     },
     "execution_count": 58,
     "metadata": {},
     "output_type": "execute_result"
    }
   ],
   "source": [
    "a = {1: 1 ,2:2}\n",
    "a.keys()"
   ]
  },
  {
   "cell_type": "code",
   "execution_count": 61,
   "id": "592aef0c",
   "metadata": {},
   "outputs": [
    {
     "data": {
      "text/plain": [
       "['b', 'e']"
      ]
     },
     "execution_count": 61,
     "metadata": {},
     "output_type": "execute_result"
    }
   ],
   "source": [
    "x = \"a a b b b c c d d e e e e e\"\n",
    "words = x.split()\n",
    "n = 3\n",
    "exceeded_words =[]\n",
    "for word in words:\n",
    "    if word not in exceeded_words and words.count(word) >= n:\n",
    "        exceeded_words.append(word)\n",
    "exceeded_words"
   ]
  },
  {
   "cell_type": "code",
   "execution_count": 62,
   "id": "f0a643cd",
   "metadata": {},
   "outputs": [
    {
     "data": {
      "text/plain": [
       "14"
      ]
     },
     "execution_count": 62,
     "metadata": {},
     "output_type": "execute_result"
    }
   ],
   "source": [
    "len(words)"
   ]
  },
  {
   "cell_type": "code",
   "execution_count": null,
   "id": "b7ce3a31",
   "metadata": {},
   "outputs": [],
   "source": []
  }
 ],
 "metadata": {
  "kernelspec": {
   "display_name": "Python 3 (ipykernel)",
   "language": "python",
   "name": "python3"
  },
  "language_info": {
   "codemirror_mode": {
    "name": "ipython",
    "version": 3
   },
   "file_extension": ".py",
   "mimetype": "text/x-python",
   "name": "python",
   "nbconvert_exporter": "python",
   "pygments_lexer": "ipython3",
   "version": "3.9.16"
  }
 },
 "nbformat": 4,
 "nbformat_minor": 5
}
