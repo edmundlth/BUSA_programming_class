{
 "cells": [
  {
   "cell_type": "markdown",
   "id": "996f1117",
   "metadata": {},
   "source": [
    "# Exam practice\n",
    "---\n",
    "\n",
    "OO: \n",
    "  - 2021 exam Q1\n",
    "  - 2021 prac Q1\n",
    "  - 2018 exam Q5\n",
    "  - 2018 exam Q8\n",
    "\n",
    "\n",
    "Recursion: \n",
    "  - 2021 exam Q4\n",
    "  - 2021 prac Q3\n",
    "  \n",
    "  \n",
    "Algorithmic complexity \n",
    "  - 2021 exam Q6\n",
    "  - 2021 prac Q6\n",
    "  - 2018 exam Q7"
   ]
  },
  {
   "cell_type": "markdown",
   "id": "4964f29b",
   "metadata": {},
   "source": [
    "# 2021 exam Q1\n"
   ]
  },
  {
   "cell_type": "code",
   "execution_count": 26,
   "id": "d577a6b4",
   "metadata": {},
   "outputs": [],
   "source": [
    "\n",
    "def avgpriceperlevel(building):\n",
    "    avg = building[\"price\"] / building[\"num_level\"]\n",
    "    return avg \n",
    "\n",
    "\n",
    "class Building:\n",
    "    \n",
    "    def __init__(self, num_level, owner, price, residents):\n",
    "        self.num_level = num_level\n",
    "        self.owner = owner\n",
    "        self.price = price\n",
    "        self.residents = residents\n",
    "        \n",
    "    def avgpriceperlevel(self):\n",
    "        avg_price = self.price / self.num_level\n",
    "        return f\"${avg_price:.1f}M\"\n",
    "    \n",
    "    def compare(self, others):\n",
    "        prices = [building.price for building in others]\n",
    "        avg = sum(prices) / len(prices)\n",
    "        return avg < self.price\n",
    "    \n",
    "\n",
    "b1 = Building(20, \"James\", 60, [\"Harry\",\"Debby\"]) # make a 20 level building that is owned by\n",
    "#James, with a price of $60 million, and the residents are Harry and Debby.\n",
    "b2 = Building(10, \"Jules\", 4, [\"Tim\",\"Tony\",\"Tina\",\"Celeste\"]) # make a 10 level building owned by\n",
    "#Jules, with a price of $4 million and its residents are Tim, Tony, Tina and Celeste.\n",
    "b3 = Building(2, \"Jordan\", 4,[]) # make a 2 level building owned by #Jordan, with a price of $4 million and it has no residents."
   ]
  },
  {
   "cell_type": "code",
   "execution_count": 27,
   "id": "02b63209",
   "metadata": {},
   "outputs": [
    {
     "name": "stdout",
     "output_type": "stream",
     "text": [
      "False\n",
      "True\n"
     ]
    }
   ],
   "source": [
    "print(b2.compare([b1,b3])) #should return False\n",
    "print(b1.compare([b2,b3])) #should return True"
   ]
  },
  {
   "cell_type": "code",
   "execution_count": 11,
   "id": "1149ac8a",
   "metadata": {},
   "outputs": [
    {
     "data": {
      "text/plain": [
       "'James'"
      ]
     },
     "execution_count": 11,
     "metadata": {},
     "output_type": "execute_result"
    }
   ],
   "source": [
    "x."
   ]
  },
  {
   "cell_type": "markdown",
   "id": "3432db58",
   "metadata": {},
   "source": [
    "# 2021 exam Q4\n",
    "Write a recursive function called de_nest which takes as parameter an input list that may contain further nested input lists inside it and returns a list of all the values, with nesting removed. E.g.\n",
    "```\n",
    "s=[[5],[2,[33,[3,3]]],[4],[3,[2,4]]]\n",
    "print(de_nest(s))\n",
    "[5, 2, 33, 3, 3, 4, 3, 2, 4]\n",
    "```"
   ]
  },
  {
   "cell_type": "code",
   "execution_count": 34,
   "id": "837bd472",
   "metadata": {},
   "outputs": [],
   "source": [
    "def de_nest(lst):\n",
    "    if len(lst) == 0:\n",
    "        return lst\n",
    "    else:\n",
    "        rest = lst[1:]\n",
    "        unnested_rest = de_nest(rest)\n",
    "        first_elem = lst[0]\n",
    "        if type(first_elem) is not list: # so no further unnesting needed\n",
    "             return [lst[0]] + unnested_rest\n",
    "        else:\n",
    "            unnested_first_elem = de_nest(first_elem)\n",
    "            return unnested_first_elem + unnested_rest"
   ]
  },
  {
   "cell_type": "code",
   "execution_count": 35,
   "id": "c8602775",
   "metadata": {},
   "outputs": [
    {
     "data": {
      "text/plain": [
       "[1, 2, 2, 3, 5]"
      ]
     },
     "execution_count": 35,
     "metadata": {},
     "output_type": "execute_result"
    }
   ],
   "source": [
    "de_nest([1, 2, [2, 3], 5])"
   ]
  },
  {
   "cell_type": "code",
   "execution_count": 37,
   "id": "4e1d4c4e",
   "metadata": {},
   "outputs": [
    {
     "data": {
      "text/plain": [
       "True"
      ]
     },
     "execution_count": 37,
     "metadata": {},
     "output_type": "execute_result"
    }
   ],
   "source": [
    "s=[[5],[2,[33,[3,3]]],[4],[3,[2,4]]]\n",
    "de_nest(s) == [5, 2, 33, 3, 3, 4, 3, 2, 4]"
   ]
  },
  {
   "cell_type": "markdown",
   "id": "83381107",
   "metadata": {},
   "source": [
    "# Q6"
   ]
  },
  {
   "cell_type": "code",
   "execution_count": 38,
   "id": "3f4068aa",
   "metadata": {},
   "outputs": [],
   "source": [
    "lst = [2, 2, 2, 2] # n = 4\n",
    "count = 0  # O(1) \n",
    "for item in lst:  # repeat n times\n",
    "    if item % 2 == 0:  # O(1)\n",
    "        count += 1 # O(1)\n",
    "        \n",
    "# Best case = O(1) + n * (O(1) + O(1)) = O(1) + n * (O(1)) = O(n)"
   ]
  },
  {
   "cell_type": "markdown",
   "id": "0f11e668",
   "metadata": {},
   "source": [
    "count = sum(\n",
    "    [x % 2 for x in lst] # O()\n",
    ")\n",
    "\n",
    "This is equivalent to the following code: \n",
    "```\n",
    "s = [] # O(1)\n",
    "for x in lst: # repeat n time \n",
    "    s.append(x % 2) # O(1)\n",
    "sum(s) # O(n)\n",
    "```\n",
    "\n",
    "Best worst avg = O(1) + n * (O(1)) + O(n) = O(n) + O(n) = O(n) "
   ]
  },
  {
   "cell_type": "code",
   "execution_count": 40,
   "id": "1899809d",
   "metadata": {},
   "outputs": [
    {
     "name": "stdout",
     "output_type": "stream",
     "text": [
      "hello\n",
      "hello\n",
      "hello\n",
      "hello\n",
      "hello\n",
      "hello\n",
      "hello\n",
      "hello\n",
      "hello\n",
      "hello\n",
      "hello\n",
      "hello\n",
      "hello\n",
      "hello\n",
      "hello\n",
      "hello\n"
     ]
    }
   ],
   "source": [
    "for i in range(100):\n",
    "    break\n",
    "    print(\"hello\")"
   ]
  },
  {
   "cell_type": "code",
   "execution_count": null,
   "id": "25bdc6e2",
   "metadata": {},
   "outputs": [],
   "source": [
    "for i in range(1, len(lst)): # repeat (n -1) times\n",
    "    for j in range(i): # repeat at most i times\n",
    "        if (lst[j] < lst[i]): # O(1)\n",
    "            break\n",
    "\n",
    "# Worst case = O(n^2)\n",
    "# Best case = O(n)"
   ]
  },
  {
   "cell_type": "code",
   "execution_count": 43,
   "id": "90064b0f",
   "metadata": {},
   "outputs": [
    {
     "name": "stdout",
     "output_type": "stream",
     "text": [
      "[1, 2, 3, 4, 5, 6, 7, 8, 9]\n",
      "[1, 2, 3, 4]\n",
      "[1, 2]\n"
     ]
    }
   ],
   "source": [
    "lst = [1, 2, 3, 4, 5, 6, 7, 8, 9]\n",
    "while len(lst) > 1: # repeat log_2(n) times \n",
    "    lst = lst[:len(lst) //2] # assume slicing is O(1) \n",
    "    \n",
    "# Best, worst, avg = log(n) * O(1) = O(log n)"
   ]
  },
  {
   "cell_type": "code",
   "execution_count": null,
   "id": "77409502",
   "metadata": {},
   "outputs": [],
   "source": [
    "limit = 10\n",
    "def s(lst):\n",
    "    if not lst or if lst[0] > limit:\n",
    "        return 0\n",
    "    else: \n",
    "        smaller = lst[1:]\n",
    "        smaller_solution = s(smaller)\n",
    "        return 1 + smaller_solution\n",
    "        "
   ]
  },
  {
   "cell_type": "code",
   "execution_count": null,
   "id": "2a2f6f7d",
   "metadata": {},
   "outputs": [],
   "source": [
    "def s(lst, limit=10):\n",
    "    if lst and lst[0] <= limit: # O(1)\n",
    "        return 1 + s(lst[1:], limit)\n",
    "    else:\n",
    "        return 0 # O(1)\n",
    "\n",
    "lst = list(range(100000))\n",
    "# Best case is when lst[0] > limit: O(1)\n",
    "# Worst case is O(1) "
   ]
  },
  {
   "cell_type": "code",
   "execution_count": 48,
   "id": "c4ee5aa6",
   "metadata": {},
   "outputs": [],
   "source": [
    "def is_sorted(x):\n",
    "    if len(x) <= 1:\n",
    "        return True\n",
    "    else:\n",
    "        if (x[0] >= x[1]):\n",
    "            return False\n",
    "        else:\n",
    "            return is_sorted(x[1:])"
   ]
  },
  {
   "cell_type": "code",
   "execution_count": 49,
   "id": "77259837",
   "metadata": {},
   "outputs": [
    {
     "data": {
      "text/plain": [
       "False"
      ]
     },
     "execution_count": 49,
     "metadata": {},
     "output_type": "execute_result"
    }
   ],
   "source": [
    "is_sorted([1, 3, 2, 5])"
   ]
  },
  {
   "cell_type": "code",
   "execution_count": null,
   "id": "9ca7ce80",
   "metadata": {},
   "outputs": [],
   "source": []
  }
 ],
 "metadata": {
  "kernelspec": {
   "display_name": "Python 3 (ipykernel)",
   "language": "python",
   "name": "python3"
  },
  "language_info": {
   "codemirror_mode": {
    "name": "ipython",
    "version": 3
   },
   "file_extension": ".py",
   "mimetype": "text/x-python",
   "name": "python",
   "nbconvert_exporter": "python",
   "pygments_lexer": "ipython3",
   "version": "3.9.12"
  }
 },
 "nbformat": 4,
 "nbformat_minor": 5
}
