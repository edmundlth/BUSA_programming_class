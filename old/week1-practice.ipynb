{
 "cells": [
  {
   "cell_type": "markdown",
   "id": "3081754d",
   "metadata": {},
   "source": [
    "---\n",
    "# Week 1 Practice questions\n",
    "---"
   ]
  },
  {
   "cell_type": "markdown",
   "id": "73824ead",
   "metadata": {},
   "source": [
    "## Question 1"
   ]
  },
  {
   "cell_type": "code",
   "execution_count": null,
   "id": "2ba98129",
   "metadata": {},
   "outputs": [],
   "source": [
    "# if var in (\"VIC\", \"NSW\", \"ACT\"):\n",
    "# if var[0] == \"A\" and var[-1] == \"e\":\n",
    "# if var in {\"1\", \"2\", 3}:\n",
    "# if var in {\"a\": 1, \"b\": \"c\"}:\n",
    "# if var: # \"truthiness\" examples\n"
   ]
  },
  {
   "cell_type": "code",
   "execution_count": 58,
   "id": "03719ac3",
   "metadata": {},
   "outputs": [],
   "source": [
    "def f():\n",
    "    return \n",
    "\n",
    "var = ()\n",
    "\n",
    "if var:\n",
    "    print(\"Triggered!\")"
   ]
  },
  {
   "cell_type": "code",
   "execution_count": 57,
   "id": "0eb47d04",
   "metadata": {},
   "outputs": [
    {
     "data": {
      "text/plain": [
       "1"
      ]
     },
     "execution_count": 57,
     "metadata": {},
     "output_type": "execute_result"
    }
   ],
   "source": [
    "len(var)"
   ]
  },
  {
   "cell_type": "code",
   "execution_count": 59,
   "id": "a3c6d53a",
   "metadata": {},
   "outputs": [
    {
     "data": {
      "text/plain": [
       "tuple"
      ]
     },
     "execution_count": 59,
     "metadata": {},
     "output_type": "execute_result"
    }
   ],
   "source": [
    "type(var)"
   ]
  },
  {
   "cell_type": "markdown",
   "id": "1ac7ecd8",
   "metadata": {},
   "source": [
    "## Question 2\n",
    "What's wrong with this code? How can you fix it? "
   ]
  },
  {
   "cell_type": "code",
   "execution_count": 69,
   "id": "5513b577",
   "metadata": {},
   "outputs": [
    {
     "name": "stdout",
     "output_type": "stream",
     "text": [
      "Enter a letter: A\n",
      "vowel\n"
     ]
    }
   ],
   "source": [
    "letter = input(\"Enter a letter: \")\n",
    "vowels = ('a', 'e', 'i', 'o', 'u')\n",
    "\n",
    "if len(letter) == 1:\n",
    "    if letter.casefold() in vowels:\n",
    "        print(\"vowel\")\n",
    "    else: \n",
    "        print(\"consonant\")\n",
    "else:\n",
    "    print(\"Get out\")"
   ]
  },
  {
   "cell_type": "code",
   "execution_count": 15,
   "id": "bddf14da",
   "metadata": {},
   "outputs": [
    {
     "name": "stdout",
     "output_type": "stream",
     "text": [
      "Enter a letter: adfkadj\n",
      "Whats wrong with you\n"
     ]
    }
   ],
   "source": [
    "# letter = input(\"Enter a letter: \")\n",
    "# vowels = ('a', 'e', 'i', 'o', 'u')\n",
    "\n",
    "# if letter.isalpha() and len(letter) == 1:\n",
    "#     if letter.casefold() in vowels: \n",
    "#         print(\"vowel\") \n",
    "#     else:\n",
    "#         print(\"consonant\")\n",
    "# else:\n",
    "#     print('Whats wrong with you')\n",
    "    \n"
   ]
  },
  {
   "cell_type": "markdown",
   "id": "fa5a4a98",
   "metadata": {},
   "source": [
    "## Question 3\n",
    "What's wrong with this code? How can you fix it? "
   ]
  },
  {
   "cell_type": "code",
   "execution_count": 72,
   "id": "4f7afe59",
   "metadata": {},
   "outputs": [
    {
     "name": "stdout",
     "output_type": "stream",
     "text": [
      "not spam\n"
     ]
    }
   ],
   "source": [
    "eggs = 3\n",
    "if eggs == 5:\n",
    "    print(\"spam\")\n",
    "else:\n",
    "    print(\"not spam\")"
   ]
  },
  {
   "cell_type": "markdown",
   "id": "fabb724b",
   "metadata": {},
   "source": [
    "## Question 4\n",
    "Evaluate the following"
   ]
  },
  {
   "cell_type": "code",
   "execution_count": 82,
   "id": "0f048164",
   "metadata": {},
   "outputs": [
    {
     "data": {
      "text/plain": [
       "'pythonisation'"
      ]
     },
     "execution_count": 82,
     "metadata": {},
     "output_type": "execute_result"
    }
   ],
   "source": [
    "s = \"pythonisation\"\n",
    "# s[1]\n",
    "\n",
    "# s[-1]\n",
    "# s[2:4] \n",
    "# s[25]\n",
    "# s[25:]\n",
    "\n",
    "# s[-1:-2:-1]\n",
    "# s[:-3]\n",
    "# s[::2]\n",
    "# s[::-1]\n",
    "\n",
    "\n",
    "s[::-1][::-1]"
   ]
  },
  {
   "cell_type": "markdown",
   "id": "cccb1849",
   "metadata": {},
   "source": [
    "## Question 5\n",
    "Write a program which ask the user to write a sentence and checks whether the first letter is capitalised and the last letter is a full stop to decide whether it is a correct sentence."
   ]
  },
  {
   "cell_type": "code",
   "execution_count": 85,
   "id": "f323d8cd",
   "metadata": {},
   "outputs": [
    {
     "name": "stdout",
     "output_type": "stream",
     "text": [
      "Enter a sentence please: \n",
      "Go back to elementary school.\n"
     ]
    }
   ],
   "source": [
    "user_input = input(\"Enter a sentence please: \")\n",
    "\n",
    "if len(user_input) > 0 and user_input[0] == user_input[0].upper() and user_input[-1] == '.':\n",
    "    print(\"Correct sentence.\")\n",
    "else:\n",
    "    print(\"Go back to elementary school.\")\n",
    "    \n",
    "    \n",
    "\n"
   ]
  },
  {
   "cell_type": "code",
   "execution_count": 87,
   "id": "a36898fb",
   "metadata": {},
   "outputs": [
    {
     "data": {
      "text/plain": [
       "False"
      ]
     },
     "execution_count": 87,
     "metadata": {},
     "output_type": "execute_result"
    }
   ],
   "source": [
    "a = \"1243\"\n",
    "a.isalpha()"
   ]
  },
  {
   "cell_type": "code",
   "execution_count": 86,
   "id": "3b718eb0",
   "metadata": {},
   "outputs": [
    {
     "ename": "IndentationError",
     "evalue": "expected an indented block (1168378016.py, line 11)",
     "output_type": "error",
     "traceback": [
      "\u001b[0;36m  Input \u001b[0;32mIn [86]\u001b[0;36m\u001b[0m\n\u001b[0;31m    \u001b[0m\n\u001b[0m    ^\u001b[0m\n\u001b[0;31mIndentationError\u001b[0m\u001b[0;31m:\u001b[0m expected an indented block\n"
     ]
    }
   ],
   "source": [
    "user_input = input(\"Enter a sentence please: \")\n",
    "\n",
    "def is_sentence(string):\n",
    "    if len(string) == 0:\n",
    "        return False\n",
    "    first_letter = string[0]\n",
    "    if first_letter.isalpha() and first_letter.upper() == first_letter[0]: \n",
    "        ...\n",
    "        pass\n",
    "    return \n",
    "\n",
    "\n",
    "def program():\n",
    "    user_input = input(\"Enter a sentence please: \")\n",
    "    if is_sentence(user_input):\n",
    "        print(\"Is sentence\")\n",
    "    else:\n",
    "        print(\"NOPE\")\n"
   ]
  },
  {
   "cell_type": "code",
   "execution_count": 42,
   "id": "a91e887e",
   "metadata": {},
   "outputs": [],
   "source": [
    "# def check(sentence):\n",
    "#     if len(sentence) > 0:\n",
    "#         return sentence[0] == sentence[0].upper() and sentence[-1] == '.'\n",
    "#     else:\n",
    "#         return False\n"
   ]
  },
  {
   "cell_type": "markdown",
   "id": "85e01be9",
   "metadata": {},
   "source": [
    "## Question 6\n",
    "Write a function that takes a positive integer input `n` and prints the thirteen times tables from `1 * 13` until `n * 13`. "
   ]
  },
  {
   "cell_type": "code",
   "execution_count": 11,
   "id": "24b80788",
   "metadata": {},
   "outputs": [
    {
     "name": "stdout",
     "output_type": "stream",
     "text": [
      "1 * 3 = 3\n",
      "2 * 3 = 6\n",
      "3 * 3 = 9\n"
     ]
    }
   ],
   "source": [
    "def thirteen_table(n):\n",
    "#     i = 1\n",
    "#     while i <= n:\n",
    "#         print(f\"{i} * {n} = {i * n}\")\n",
    "#         i += 1\n",
    "    for i in range(1, n + 1):\n",
    "        print(f\"{i} * {n} = {i * n}\")\n",
    "    return \n",
    "thirteen_table(3)"
   ]
  },
  {
   "cell_type": "markdown",
   "id": "ce70b757",
   "metadata": {},
   "source": [
    "## Question 7\n",
    "Write a function which converts a temperature between degrees Celsius and Fahrenheit. \n",
    "\n",
    "$$\n",
    "C = \\frac{F - 32}{1.8} \n",
    "$$\n",
    "\n",
    "$$\n",
    "F = C \\times 1.8 + 32\n",
    "$$"
   ]
  },
  {
   "cell_type": "code",
   "execution_count": 47,
   "id": "50ba6368",
   "metadata": {},
   "outputs": [],
   "source": [
    "def convert_temp(degree, unit):\n",
    "    if unit.lower() == 'f':\n",
    "        return (degree - 32) / 1.8\n",
    "    elif unit.lower() == 'c':\n",
    "        if degree < 273.13:\n",
    "            print(\"that is less than absolute zero.\")\n",
    "        return degree * 1.8 + 32\n",
    "    else:\n",
    "        print(\"Unit not accepted.\")\n",
    "        return "
   ]
  },
  {
   "cell_type": "markdown",
   "id": "2b59f326",
   "metadata": {},
   "source": [
    "# MISC\n"
   ]
  },
  {
   "cell_type": "code",
   "execution_count": 19,
   "id": "508c70ea",
   "metadata": {},
   "outputs": [
    {
     "data": {
      "text/plain": [
       "[('the', 119), ('of', 79), ('a', 68)]"
      ]
     },
     "execution_count": 19,
     "metadata": {},
     "output_type": "execute_result"
    }
   ],
   "source": [
    "def parse_file_to_wordlist(filename):\n",
    "    with open(filename, \"r\") as infile:\n",
    "        file_content = infile.read()\n",
    "    word_list = string_to_wordlist(file_content)\n",
    "    return word_list\n",
    "\n",
    "def string_to_wordlist(string):\n",
    "    return string.split()\n",
    "\n",
    "def make_tally(obj_list):\n",
    "    tally = {}\n",
    "    for x in obj_list:\n",
    "        if x in tally:\n",
    "            tally[x] += 1\n",
    "        else:\n",
    "            tally[x] = 1\n",
    "    return tally\n",
    "\n",
    "def main(filename, topn=1):\n",
    "    word_list = parse_file_to_wordlist(filename)\n",
    "    word_tally = make_tally(word_list)\n",
    "    freq_sorted_list = sorted(word_tally.items(), key=lambda x: x[1], reverse=True)\n",
    "    return freq_sorted_list[:topn]\n",
    "\n",
    "main(\"./moby_dick_chapter1.txt\", 3)"
   ]
  },
  {
   "cell_type": "code",
   "execution_count": null,
   "id": "b6d6c3d7",
   "metadata": {},
   "outputs": [],
   "source": []
  }
 ],
 "metadata": {
  "kernelspec": {
   "display_name": "Python 3 (ipykernel)",
   "language": "python",
   "name": "python3"
  },
  "language_info": {
   "codemirror_mode": {
    "name": "ipython",
    "version": 3
   },
   "file_extension": ".py",
   "mimetype": "text/x-python",
   "name": "python",
   "nbconvert_exporter": "python",
   "pygments_lexer": "ipython3",
   "version": "3.9.16"
  }
 },
 "nbformat": 4,
 "nbformat_minor": 5
}
