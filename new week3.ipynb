{
 "cells": [
  {
   "cell_type": "markdown",
   "id": "98eba268",
   "metadata": {},
   "source": [
    "---\n",
    "# Week 3 + 4\n",
    "---\n",
    "\n",
    "MISC: \n",
    " - Resources to study HTML + CSS. (Beware of tutorial hell and bloated tech stacks ....) \n",
    " - Writing small test cases. "
   ]
  },
  {
   "cell_type": "markdown",
   "id": "b8a1acef",
   "metadata": {},
   "source": [
    "---\n",
    "# OOP\n",
    "---\n",
    "Possible FAQ: Why OOP?\n",
    "  - Programming paradigm / style are for humans, not for machines. \n",
    "  - Why not something else? Why not stick with assembly, strict imperative, just list, just dict, functional? We just want to arrange code in such a way that *most* people can digest the code faster than otherwise …. (programming paradigm)\n",
    "  - Some other perks of paradigm: tooling (debugger, linter, semantic checks …)"
   ]
  },
  {
   "cell_type": "code",
   "execution_count": 23,
   "id": "8f0d5836",
   "metadata": {},
   "outputs": [],
   "source": [
    "import random\n",
    "import datetime"
   ]
  },
  {
   "cell_type": "code",
   "execution_count": 10,
   "id": "64305a6b",
   "metadata": {},
   "outputs": [],
   "source": [
    "# How would you store details about a student? \n",
    "# We could use list, but we need to remember which index correspond to which info. \n",
    "# We could use dictionary. But could you tell what went wrong in the student record below? \n",
    "student1 = {\n",
    "    \"name\": \"\", \n",
    "    \"age\": 0, \n",
    "    \"id\": 0, \n",
    "    \"attendence\": [\"12/01/2023\", \"11/25/2023\"], \n",
    "    \"subjects\": [\"How to survive MBS\", \"Python programming\", \"SQL\"], \n",
    "}\n",
    "student2 = {\n",
    "    \"Name\": \"\", \n",
    "    \"age\": 1, \n",
    "    \"ID\": 0, \n",
    "    \"attend\": [], \n",
    "    \"subject\": [\"How to survive MBS\", \"Python programming\", \"SQL\"], \n",
    "}\n",
    "\n",
    "def is_same_student(student1, student2):\n",
    "    has_same_id = student1[\"id\"] == student2[\"id\"]\n",
    "    has_same_name = student1[\"name\"] == student2[\"name\"]\n",
    "    if has_same_id and (not has_same_name):\n",
    "        raise ValueError\n",
    "    return has_same_id"
   ]
  },
  {
   "cell_type": "code",
   "execution_count": 11,
   "id": "665b147c",
   "metadata": {},
   "outputs": [],
   "source": [
    "# How can we do this more systematically? \n",
    "# What else do you think this class should record / be able to do? \n",
    "# Pretty printing\n",
    "# Checking equality\n",
    "# Sorting. \n",
    "# Other suggestion? \n",
    "\n",
    "class Student(object):\n",
    "    def __init__(self, name, age=None, birth_year=None, idnum=None, first_name=None, last_name=None):\n",
    "        self.name = name\n",
    "        self.first_name = first_name\n",
    "        self.last_name = last_name\n",
    "        \n",
    "\n",
    "        self.birth_year = birth_year\n",
    "        self.age = age        \n",
    "        if idnum is None:\n",
    "            self.id = random.randint(0, 100000)\n",
    "        else:\n",
    "            self.id = idnum    \n",
    "        self.attendence = []\n",
    "    \n",
    "    # what is the difference between method and functions? \n",
    "    def get_age(self):\n",
    "        current_year = datetime.datetime.now().year\n",
    "        if self.age is not None:\n",
    "            return self.age\n",
    "        elif self.birth_year is not None:\n",
    "            return current_year - self.birth_year\n",
    "        else:\n",
    "            raise ValueError(\"Age not determined. \")\n",
    "    \n",
    "    def record_attendence(self, date):\n",
    "        self.attendence.append(date) # add date formatting here. \n",
    "        return \n",
    "    \n",
    "    def is_first_last_format(self):\n",
    "        return self.name.split(' ') == [self.first_name, self.last_name]\n",
    "    \n",
    "#     def __lt__(self, other):\n",
    "#         return self.age < other.age\n",
    "    \n",
    "#     def __eq__(self, other):\n",
    "#         return self.id == other.id\n",
    "    \n",
    "#     def __le__(self, other):\n",
    "#         return self.name <= other.name\n",
    "    \n",
    "#     def __lt__(self, other):\n",
    "#         return self.name < other.name\n",
    "    \n",
    "#     def __repr__(self):\n",
    "#         return f\"Student(name={self.name}, age={self.age}, num attend={len(self.attendence)})\"\n",
    "\n",
    "student1 = Student(\"ab\", 10)\n",
    "student2 = Student(\"cd\", 3)\n",
    "# student2 >= student1"
   ]
  },
  {
   "cell_type": "markdown",
   "id": "cc8eb52f",
   "metadata": {},
   "source": [
    "# File and File formats\n",
    "- What is a file:\n",
    "    - A finite sequence of 8 bit bytes …\n",
    "    - Something your OS recognise as a file.\n",
    "    - Something you can access using Python’s `open()` function.\n",
    "- Why file format?\n",
    "    - Machines need to negotiate how to interpret data.\n",
    "    - Text: html, plain text, python, c, ... (need not be human readable)\n",
    "    - Images: png (there was an interesting bug about this format in 2023), jpeg, tiff\n",
    "    - Compressed: gzip\n",
    "    - Audio: mp3, wav\n",
    "    - File name extension.\n",
    "- Demo CSV files"
   ]
  },
  {
   "cell_type": "markdown",
   "id": "542761d3",
   "metadata": {},
   "source": [
    "## CSV demo\n",
    "\n",
    "1. What is a csv? \n",
    "2. What should we expect the `CSV` module to do? (and how do we find out if it does that?)\n",
    "3. Demo"
   ]
  },
  {
   "cell_type": "code",
   "execution_count": 7,
   "id": "ac21e9d1",
   "metadata": {},
   "outputs": [
    {
     "name": "stdout",
     "output_type": "stream",
     "text": [
      "[['r'], ['a'], ['n'], ['d'], ['_'], ['s'], ['t'], ['u'], ['d'], ['e'], ['n'], ['t'], ['.'], ['c'], ['s'], ['v']]\n"
     ]
    }
   ],
   "source": [
    "# How to read in csv into a list of lists? \n",
    "# What could potentially go wrong in this code? \n",
    "\n",
    "# The task is to read in the data in `rand_student.csv` into a python list of lists. \n",
    "# Also, print out the average age of the students on record. \n",
    "# What are the mistakes made in the following? \n",
    "\n",
    "\n",
    "# mistake at the start\n",
    "file = \"rand_student.csv\" # mistake\n",
    "reader = csv.reader(file)\n",
    "raw_data = [row for row in reader] # bad design \n",
    "\n",
    "ages = []\n",
    "for row in reader: # mistake x 2\n",
    "    age = row[-1] # mistake\n",
    "    ages.append(age)\n",
    "\n",
    "# another mistake \n",
    "\n",
    "print(raw_data)\n",
    "print(f\"Average age = {sum(ages) / len(ages)}\") # won't work. \n"
   ]
  },
  {
   "cell_type": "code",
   "execution_count": 21,
   "id": "2c879c60",
   "metadata": {},
   "outputs": [
    {
     "name": "stdout",
     "output_type": "stream",
     "text": [
      "['subject', 'date', 'day', 'name', 'id', 'age']\n",
      "[['Science', '07/15/2022', 'Friday', 'John Smith', '123456', '15'], ['History', '12/21/2022', 'Wednesday', 'Bob Johnson', '987654', '14'], ['Mathematics', '06/16/2022', 'Thursday', 'Jane Doe', '654321', '16'], ['Social Studies', '06/11/2022', 'Saturday', 'Bob Johnson', '987654', '14'], ['Science', '12/13/2022', 'Tuesday', 'Jane Doe', '654321', '16'], ['English', '09/27/2022', 'Tuesday', 'Bob Johnson', '987654', '14'], ['Science', '09/21/2022', 'Wednesday', 'John Smith', '123456', '15'], ['History', '11/11/2022', 'Friday', 'John Smith', '123456', '15'], ['Social Studies', '07/25/2022', 'Monday', 'Bob Johnson', '987654', '14'], ['Mathematics', '04/11/2022', 'Monday', 'John Smith', '123456', '15']]\n",
      "Average age = 15.0\n"
     ]
    }
   ],
   "source": [
    "# Correct code\n",
    "import csv\n",
    "\n",
    "file = open(\"rand_student.csv\") # default is \"r\"-mode. be VERY CAREFUL about 'w'-mode. \n",
    "reader = csv.reader(file)\n",
    "header = next(reader)\n",
    "raw_data = [row for row in reader]\n",
    "file.close() # we have finished using the file! Close it as soon as possible! \n",
    "\n",
    "ages = []\n",
    "student_ids = []\n",
    "for row in raw_data: #what happen if we do `for row in reader:` here again? \n",
    "    age = int(row[-1])\n",
    "    idnum = int(row[-2])\n",
    "    if idnum not in student_ids:\n",
    "        student_ids.append(idnum)\n",
    "        ages.append(age)\n",
    "\n",
    "\n",
    "print(header)\n",
    "print(raw_data)\n",
    "print(f\"Average age = {sum(ages) / len(ages)}\")\n",
    "\n",
    "    \n"
   ]
  },
  {
   "cell_type": "code",
   "execution_count": 17,
   "id": "4a3802a8",
   "metadata": {},
   "outputs": [
    {
     "name": "stdout",
     "output_type": "stream",
     "text": [
      "['subject', 'date', 'day', 'name', 'id', 'age']\n",
      "[['Science', '07/15/2022', 'Friday', 'John Smith', '123456', '15'], ['History', '12/21/2022', 'Wednesday', 'Bob Johnson', '987654', '14'], ['Mathematics', '06/16/2022', 'Thursday', 'Jane Doe', '654321', '16'], ['Social Studies', '06/11/2022', 'Saturday', 'Bob Johnson', '987654', '14'], ['Science', '12/13/2022', 'Tuesday', 'Jane Doe', '654321', '16'], ['English', '09/27/2022', 'Tuesday', 'Bob Johnson', '987654', '14'], ['Science', '09/21/2022', 'Wednesday', 'John Smith', '123456', '15'], ['History', '11/11/2022', 'Friday', 'John Smith', '123456', '15'], ['Social Studies', '07/25/2022', 'Monday', 'Bob Johnson', '987654', '14'], ['Mathematics', '04/11/2022', 'Monday', 'John Smith', '123456', '15']]\n",
      "Average age = 15.0\n"
     ]
    }
   ],
   "source": [
    "# Using `with` context manager. \n",
    "import csv\n",
    "raw_data = []\n",
    "with open(\"rand_student.csv\") as infile: \n",
    "    reader = csv.reader(infile)\n",
    "    header = next(reader)\n",
    "    raw_data = [row for row in reader]\n",
    "\n",
    "ages = []\n",
    "student_ids = []\n",
    "for row in raw_data:\n",
    "    age = int(row[-1]) # what if we don't know the index? \n",
    "    idnum = int(row[-2])\n",
    "    if idnum not in student_ids:\n",
    "        student_ids.append(idnum)\n",
    "        ages.append(age)\n",
    "\n",
    "print(header)\n",
    "print(raw_data)\n",
    "print(f\"Average age = {sum(ages) / len(ages)}\")\n"
   ]
  },
  {
   "cell_type": "code",
   "execution_count": 18,
   "id": "d659be1c",
   "metadata": {},
   "outputs": [
    {
     "name": "stdout",
     "output_type": "stream",
     "text": [
      "[{'subject': 'History', 'date': '12/21/2022', 'day': 'Wednesday', 'name': 'Bob Johnson', 'id': '987654', 'age': '14'}, {'subject': 'Mathematics', 'date': '06/16/2022', 'day': 'Thursday', 'name': 'Jane Doe', 'id': '654321', 'age': '16'}, {'subject': 'Social Studies', 'date': '06/11/2022', 'day': 'Saturday', 'name': 'Bob Johnson', 'id': '987654', 'age': '14'}, {'subject': 'Science', 'date': '12/13/2022', 'day': 'Tuesday', 'name': 'Jane Doe', 'id': '654321', 'age': '16'}, {'subject': 'English', 'date': '09/27/2022', 'day': 'Tuesday', 'name': 'Bob Johnson', 'id': '987654', 'age': '14'}, {'subject': 'Science', 'date': '09/21/2022', 'day': 'Wednesday', 'name': 'John Smith', 'id': '123456', 'age': '15'}, {'subject': 'History', 'date': '11/11/2022', 'day': 'Friday', 'name': 'John Smith', 'id': '123456', 'age': '15'}, {'subject': 'Social Studies', 'date': '07/25/2022', 'day': 'Monday', 'name': 'Bob Johnson', 'id': '987654', 'age': '14'}, {'subject': 'Mathematics', 'date': '04/11/2022', 'day': 'Monday', 'name': 'John Smith', 'id': '123456', 'age': '15'}]\n",
      "Average age = 15.0\n"
     ]
    }
   ],
   "source": [
    "# csv.DictReader demo\n",
    "\n",
    "import csv\n",
    "ages = []\n",
    "student_ids = []\n",
    "raw_data = []\n",
    "with open(\"rand_student.csv\") as infile: \n",
    "    dictreader = csv.DictReader(infile)\n",
    "    header = next(dictreader) # mistake\n",
    "    for row in dictreader:\n",
    "        raw_data.append(row)\n",
    "        age = int(row[\"age\"])\n",
    "        idnum = int(row[\"id\"])\n",
    "        if idnum not in student_ids:\n",
    "            student_ids.append(idnum)\n",
    "            ages.append(age)\n",
    "\n",
    "print(raw_data)\n",
    "print(f\"Average age = {sum(ages) / len(ages)}\")\n",
    "\n",
    "        "
   ]
  },
  {
   "cell_type": "code",
   "execution_count": 22,
   "id": "12740326",
   "metadata": {},
   "outputs": [
    {
     "data": {
      "text/plain": [
       "[<__main__.Student at 0x1187a9100>,\n",
       " <__main__.Student at 0x1187a9910>,\n",
       " <__main__.Student at 0x1187a9940>,\n",
       " <__main__.Student at 0x1187a9e20>,\n",
       " <__main__.Student at 0x1187a9df0>,\n",
       " <__main__.Student at 0x1187a9a00>,\n",
       " <__main__.Student at 0x1187a91c0>,\n",
       " <__main__.Student at 0x1187a9130>,\n",
       " <__main__.Student at 0x1187a9970>,\n",
       " <__main__.Student at 0x1187a96a0>]"
      ]
     },
     "execution_count": 22,
     "metadata": {},
     "output_type": "execute_result"
    }
   ],
   "source": [
    "# Using Student object\n",
    "\n",
    "import csv\n",
    "students = []\n",
    "with open(\"rand_student.csv\") as infile: \n",
    "    dictreader = csv.DictReader(infile)\n",
    "    for row in dictreader:\n",
    "        s = Student(row[\"name\"], row[\"age\"], row[\"id\"])\n",
    "        s.record_attendence(row[\"date\"])\n",
    "        students.append(s)\n",
    "students"
   ]
  },
  {
   "cell_type": "code",
   "execution_count": 30,
   "id": "65ccf009",
   "metadata": {},
   "outputs": [
    {
     "data": {
      "text/plain": [
       "[<__main__.Student at 0x108369be0>,\n",
       " <__main__.Student at 0x107afe790>,\n",
       " <__main__.Student at 0x1087869a0>,\n",
       " <__main__.Student at 0x108355430>,\n",
       " <__main__.Student at 0x10719fca0>,\n",
       " <__main__.Student at 0x108786940>,\n",
       " <__main__.Student at 0x108369dc0>,\n",
       " <__main__.Student at 0x1087860a0>,\n",
       " <__main__.Student at 0x1087867c0>,\n",
       " <__main__.Student at 0x1083552e0>]"
      ]
     },
     "execution_count": 30,
     "metadata": {},
     "output_type": "execute_result"
    }
   ],
   "source": [
    "import csv\n",
    "students = []\n",
    "with open(\"rand_student.csv\") as infile: \n",
    "    reader = csv.reader(infile)\n",
    "    header = next(reader)\n",
    "    for row in reader:\n",
    "        date = row[1]\n",
    "        idnum = int(row[-2])\n",
    "        age = int(row[-1])\n",
    "        name = row[-3]\n",
    "        s = Student(name, age, idnum)\n",
    "        s.record_attendence(date)\n",
    "        students.append(s)\n",
    "sorted(students)"
   ]
  },
  {
   "cell_type": "markdown",
   "id": "e3c97967",
   "metadata": {},
   "source": [
    "## RAM vs Disk \n",
    "Below is a comparison of reading from Disk vs from RAM. It is a dumb comparison but nonetheless shows the huge disparity. \n",
    "\n",
    "When would we use which storage? Why? \n",
    "When do we want to read from / store to file? Why? "
   ]
  },
  {
   "cell_type": "code",
   "execution_count": 33,
   "id": "9edd73ba",
   "metadata": {},
   "outputs": [
    {
     "name": "stdout",
     "output_type": "stream",
     "text": [
      "10.8 µs ± 33.6 ns per loop (mean ± std. dev. of 7 runs, 100,000 loops each)\n"
     ]
    }
   ],
   "source": [
    "def read_from_file(filename):\n",
    "    with open(filename) as infile:\n",
    "        x = infile.read()\n",
    "    return x\n",
    "\n",
    "%timeit read_from_file(\"./test.txt\")"
   ]
  },
  {
   "cell_type": "code",
   "execution_count": 34,
   "id": "82fb6bfc",
   "metadata": {},
   "outputs": [
    {
     "name": "stdout",
     "output_type": "stream",
     "text": [
      "274 ns ± 1.67 ns per loop (mean ± std. dev. of 7 runs, 1,000,000 loops each)\n"
     ]
    }
   ],
   "source": [
    "x = '3\\n1\\n5\\n9\\n6\\n10\\n2\\n'\n",
    "def read_from_mem(numlist):\n",
    "    s = sum(numlist) # we can do a bunch of computation and still be faster than reading from disk. \n",
    "    y = x[::-1] + x[::-1]\n",
    "    return y, s\n",
    "%timeit read_from_mem([3, 5, 9, 6, 10, 2])"
   ]
  },
  {
   "cell_type": "code",
   "execution_count": null,
   "id": "5a81c0cf",
   "metadata": {},
   "outputs": [],
   "source": []
  }
 ],
 "metadata": {
  "kernelspec": {
   "display_name": "Python 3 (ipykernel)",
   "language": "python",
   "name": "python3"
  },
  "language_info": {
   "codemirror_mode": {
    "name": "ipython",
    "version": 3
   },
   "file_extension": ".py",
   "mimetype": "text/x-python",
   "name": "python",
   "nbconvert_exporter": "python",
   "pygments_lexer": "ipython3",
   "version": "3.9.16"
  }
 },
 "nbformat": 4,
 "nbformat_minor": 5
}
