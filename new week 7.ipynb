{
 "cells": [
  {
   "cell_type": "markdown",
   "id": "d434d338",
   "metadata": {},
   "source": [
    "# Exception handling\n",
    "\n",
    "* Just like we need a special `None` is need to represent a non-existent result / value, exception is need to represent failed computation. c.f. `StopIteration`\n",
    "* Computation can fail. That's a fact of the universe. Even if you wrote perfect code, something else might fail. The file doesn't exist, the database went out, the power shut down, cosmic ray interference, solar flare....\n",
    "* Jargon: \n",
    " - Raising / Throwing \n",
    " - Handling / Catching\n",
    "* Python Exception handling\n",
    " - try / except\n",
    " - try / except / else\n",
    " - try / except / finally\n",
    " - try / except / else / finally\n",
    " - raise\n"
   ]
  },
  {
   "cell_type": "code",
   "execution_count": 19,
   "id": "677b4bf3",
   "metadata": {},
   "outputs": [
    {
     "name": "stdout",
     "output_type": "stream",
     "text": [
      "KeyError issued by elem: 1\n",
      "Processed element: 1\n",
      "Nothing bad happen at elem: 1\n",
      "Processed element: 1\n",
      "KeyError issued by elem: 2\n",
      "Processed element: 2\n",
      "KeyError issued by elem: 3\n",
      "Processed element: 3\n",
      "TypeError issued by elem: ['a', 'b']\n",
      "Processed element: ['a', 'b']\n"
     ]
    },
    {
     "data": {
      "text/plain": [
       "{1: 2, 2: 1, 3: 1}"
      ]
     },
     "execution_count": 19,
     "metadata": {},
     "output_type": "execute_result"
    }
   ],
   "source": [
    "def make_tally(collection):\n",
    "    tally = {}\n",
    "    for elem in collection:\n",
    "        try:\n",
    "            tally[elem] += 1\n",
    "        except KeyError:\n",
    "            tally[elem] = 1\n",
    "            print(f\"KeyError issued by elem: {elem}\")\n",
    "        except TypeError:\n",
    "            print(f\"TypeError issued by elem: {elem}\")\n",
    "        else:\n",
    "            print(f\"Nothing bad happen at elem: {elem}\")\n",
    "        finally: \n",
    "            print(f\"Processed element: {elem}\")\n",
    "    return tally\n",
    "\n",
    "c = [1, 1, 2, 3, [\"a\", \"b\"]]\n",
    "make_tally(c)"
   ]
  },
  {
   "cell_type": "code",
   "execution_count": null,
   "id": "b19b16ff",
   "metadata": {},
   "outputs": [],
   "source": []
  },
  {
   "cell_type": "code",
   "execution_count": null,
   "id": "06951a9f",
   "metadata": {},
   "outputs": [],
   "source": []
  },
  {
   "cell_type": "code",
   "execution_count": null,
   "id": "5980f342",
   "metadata": {},
   "outputs": [],
   "source": []
  },
  {
   "cell_type": "code",
   "execution_count": 11,
   "id": "6abcaee2",
   "metadata": {},
   "outputs": [
    {
     "name": "stdout",
     "output_type": "stream",
     "text": [
      "Key Error issued for element: a\n",
      "processed element: a\n",
      "Key Error issued for element: b\n",
      "processed element: b\n",
      "Key Error issued for element: 2\n",
      "processed element: 2\n",
      "Type error issued for element: [1234]\n",
      "processed element: [1234]\n",
      "No trouble for element: b\n",
      "processed element: b\n"
     ]
    },
    {
     "data": {
      "text/plain": [
       "{'a': 1, 'b': 2, 2: 1}"
      ]
     },
     "execution_count": 11,
     "metadata": {},
     "output_type": "execute_result"
    }
   ],
   "source": [
    "def count(s):\n",
    "    freqs = {}\n",
    "    for c in s:\n",
    "        try:\n",
    "            freqs[c] += 1\n",
    "        except KeyError:\n",
    "            freqs[c] = 1\n",
    "            print(f\"Key Error issued for element: {c}\")\n",
    "#         except TypeError:\n",
    "#             print(f\"Type error issued for element: {c}\")\n",
    "#         else: \n",
    "#             print(f\"No trouble for element: {c}\")\n",
    "#         finally: \n",
    "#             print(f\"processed element: {c}\")\n",
    "    return freqs\n",
    "\n",
    "count(\"aaabbb\")\n",
    "# count([\"a\", \"b\", 2, [1234], \"b\"])"
   ]
  },
  {
   "cell_type": "code",
   "execution_count": null,
   "id": "4aed2f95",
   "metadata": {},
   "outputs": [],
   "source": []
  }
 ],
 "metadata": {
  "kernelspec": {
   "display_name": "Python 3 (ipykernel)",
   "language": "python",
   "name": "python3"
  },
  "language_info": {
   "codemirror_mode": {
    "name": "ipython",
    "version": 3
   },
   "file_extension": ".py",
   "mimetype": "text/x-python",
   "name": "python",
   "nbconvert_exporter": "python",
   "pygments_lexer": "ipython3",
   "version": "3.9.16"
  }
 },
 "nbformat": 4,
 "nbformat_minor": 5
}
