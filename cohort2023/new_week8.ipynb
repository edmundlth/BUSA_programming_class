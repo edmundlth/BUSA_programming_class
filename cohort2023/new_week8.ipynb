{
 "cells": [
  {
   "cell_type": "markdown",
   "id": "996f1117",
   "metadata": {},
   "source": [
    "# Exam practice\n",
    "---\n",
    "\n",
    "OO: \n",
    "  - 2022 exam Q1\n",
    "  - 2021 exam Q1\n",
    "  - 2021 prac Q1\n",
    "  - 2018 exam Q5\n",
    "  - 2018 exam Q8\n",
    "\n",
    "\n",
    "Recursion: \n",
    "  - 2021 exam Q4\n",
    "  - 2021 prac Q3\n",
    "  \n",
    "  \n",
    "Algorithmic complexity \n",
    "  - 2021 exam Q6\n",
    "  - 2021 prac Q6\n",
    "  - 2018 exam Q7"
   ]
  },
  {
   "cell_type": "markdown",
   "id": "a4aac954",
   "metadata": {},
   "source": [
    "\n",
    "# 2022 Question 1\n",
    "\n",
    "(a) [4 marks] Write a class called Circle to represent circles so that the following code will run.\n",
    "```\n",
    "s1 = Circle(100, 200, 20) # make a circle centered at (100,200) with\n",
    "radius 20\n",
    "s2 = Circle(300, 100, 50) # make a circle centered at (300,100) with\n",
    "radius 50\n",
    "```\n",
    "(b) [2 marks] Add a method to your Circle class so that the command\n",
    "s.prettyprint(), where s is a Circle object, will print the string \"(x,y) radius= r\" where x, y and r are the attributes for position and radius held in object s.\n",
    "\n",
    "(c) [2 marks] Add a method called overlap that will take another Circle\n",
    "object as a parameter and return True if the two circles overlap, and False\n",
    "otherwise. [two circles have a common part if the distance between their\n",
    "respective centres is less than or equal to the sum of the radii of the\n",
    "two circles]\n"
   ]
  },
  {
   "cell_type": "code",
   "execution_count": 17,
   "id": "bf376a48",
   "metadata": {},
   "outputs": [],
   "source": [
    "class Circle():\n",
    "    def __init__(self, x, y, r):\n",
    "        self.x = x\n",
    "        self.y = y\n",
    "        self.radius = r\n",
    "        return \n",
    "    \n",
    "    def prettyprint(self):\n",
    "        print(f\"({self.x},{self.y}) radius {self.radius}\")\n",
    "        \n",
    "    def overlap(self, other):\n",
    "        x1, y1, r1 = self.x, self.y, self.radius\n",
    "        x2, y2, r2 = other.x, other.y, other.radius\n",
    "        dist = ((x1 - x2)**2 + (y1 - y2)**)^0.5\n",
    "        return dist <= r1 + r2\n",
    "        \n",
    "    \n",
    "\n",
    "    \n",
    "s1 = Circle(100, 200, 20) # make a circle centered at (100,200) with\n",
    "s2 = Circle(300, 100, 50) # make a circle centered at (300,100) with"
   ]
  },
  {
   "cell_type": "code",
   "execution_count": 18,
   "id": "ef816887",
   "metadata": {},
   "outputs": [
    {
     "name": "stdout",
     "output_type": "stream",
     "text": [
      "(100,200) radius 20\n"
     ]
    }
   ],
   "source": [
    "s1.prettyprint() # \"(100,200) radius 20\""
   ]
  },
  {
   "cell_type": "code",
   "execution_count": 19,
   "id": "e118ab48",
   "metadata": {},
   "outputs": [
    {
     "name": "stdout",
     "output_type": "stream",
     "text": [
      "<__main__.Circle object at 0x10653c4f0>\n"
     ]
    }
   ],
   "source": [
    "print(s1)"
   ]
  },
  {
   "cell_type": "code",
   "execution_count": 1,
   "id": "3e8c46a0",
   "metadata": {},
   "outputs": [],
   "source": [
    "class Circle:\n",
    "    def __init__(self, x, y, r):\n",
    "        self.x = x\n",
    "        self.y = y\n",
    "        self.r = r\n",
    "    \n",
    "    def prettyprint(self):\n",
    "        return f\"({self.x},{self.y}) radius={self.r}\"\n",
    "\n",
    "    def overlap(self, other):\n",
    "        x1, y1, r1 = self.x, self.y, self.r\n",
    "        x2, y2, r2 = other.x, other.y, other.r\n",
    "        distSq = (x1 - x2) * (x1 - x2) + (y1 - y2) * (y1 - y2)\n",
    "        radSumSq = (r1 + r2) * (r1 + r2)\n",
    "        return distSq <= radSumSq\n",
    "    "
   ]
  },
  {
   "cell_type": "markdown",
   "id": "4964f29b",
   "metadata": {},
   "source": [
    "# 2021 exam Q1\n"
   ]
  },
  {
   "cell_type": "code",
   "execution_count": 26,
   "id": "d577a6b4",
   "metadata": {},
   "outputs": [],
   "source": [
    "\n",
    "def avgpriceperlevel(building):\n",
    "    avg = building[\"price\"] / building[\"num_level\"]\n",
    "    return avg \n",
    "\n",
    "\n",
    "class Building:\n",
    "    \n",
    "    def __init__(self, num_level, owner, price, residents):\n",
    "        self.num_level = num_level\n",
    "        self.owner = owner\n",
    "        self.price = price\n",
    "        self.residents = residents\n",
    "        \n",
    "    def avgpriceperlevel(self):\n",
    "        avg_price = self.price / self.num_level\n",
    "        return f\"${avg_price:.1f}M\"\n",
    "    \n",
    "    def compare(self, others):\n",
    "        prices = [building.price for building in others]\n",
    "        avg = sum(prices) / len(prices)\n",
    "        return avg < self.price\n",
    "    \n",
    "\n",
    "b1 = Building(20, \"James\", 60, [\"Harry\",\"Debby\"]) # make a 20 level building that is owned by\n",
    "#James, with a price of $60 million, and the residents are Harry and Debby.\n",
    "b2 = Building(10, \"Jules\", 4, [\"Tim\",\"Tony\",\"Tina\",\"Celeste\"]) # make a 10 level building owned by\n",
    "#Jules, with a price of $4 million and its residents are Tim, Tony, Tina and Celeste.\n",
    "b3 = Building(2, \"Jordan\", 4,[]) # make a 2 level building owned by #Jordan, with a price of $4 million and it has no residents."
   ]
  },
  {
   "cell_type": "code",
   "execution_count": 27,
   "id": "02b63209",
   "metadata": {},
   "outputs": [
    {
     "name": "stdout",
     "output_type": "stream",
     "text": [
      "False\n",
      "True\n"
     ]
    }
   ],
   "source": [
    "print(b2.compare([b1,b3])) #should return False\n",
    "print(b1.compare([b2,b3])) #should return True"
   ]
  },
  {
   "cell_type": "markdown",
   "id": "3432db58",
   "metadata": {},
   "source": [
    "# 2021 exam Q4\n",
    "Write a recursive function called de_nest which takes as parameter an input list that may contain further nested input lists inside it and returns a list of all the values, with nesting removed. E.g.\n",
    "```\n",
    "s=[[5],[2,[33,[3,3]]],[4],[3,[2,4]]]\n",
    "print(de_nest(s))\n",
    "[5, 2, 33, 3, 3, 4, 3, 2, 4]\n",
    "```"
   ]
  },
  {
   "cell_type": "code",
   "execution_count": 20,
   "id": "b7fce235",
   "metadata": {},
   "outputs": [],
   "source": [
    "def de_nest(x):\n",
    "    if len(x) == 0:\n",
    "        return []\n",
    "    else:\n",
    "        first_elem = x[0]\n",
    "        smaller = x[1:]\n",
    "        smaller_solution = de_nest(smaller)\n",
    "        if isinstance(first_elem, list):\n",
    "            denested_first_elem = de_nest(first_elem)\n",
    "            return denested_first_elem + smaller_solution\n",
    "        else:\n",
    "            return [first_elem] + smaller_solution\n"
   ]
  },
  {
   "cell_type": "code",
   "execution_count": 21,
   "id": "254c02b9",
   "metadata": {},
   "outputs": [
    {
     "data": {
      "text/plain": [
       "[1, 2, 5, 5, 3, 4, 5]"
      ]
     },
     "execution_count": 21,
     "metadata": {},
     "output_type": "execute_result"
    }
   ],
   "source": [
    "x = [[1, [2, 5, [5]]], [3], [4], [[[[[[[[[[[5]]]]]]]]]]]]\n",
    "de_nest(x)"
   ]
  },
  {
   "cell_type": "code",
   "execution_count": null,
   "id": "f7333067",
   "metadata": {},
   "outputs": [],
   "source": []
  },
  {
   "cell_type": "code",
   "execution_count": null,
   "id": "d7eeb8cc",
   "metadata": {},
   "outputs": [],
   "source": []
  },
  {
   "cell_type": "code",
   "execution_count": 34,
   "id": "837bd472",
   "metadata": {},
   "outputs": [],
   "source": [
    "def de_nest(lst):\n",
    "    if len(lst) == 0:\n",
    "        return lst\n",
    "    else:\n",
    "        rest = lst[1:]\n",
    "        unnested_rest = de_nest(rest)\n",
    "        first_elem = lst[0]\n",
    "        if type(first_elem) is not list: # so no further unnesting needed\n",
    "             return [lst[0]] + unnested_rest\n",
    "        else:\n",
    "            unnested_first_elem = de_nest(first_elem)\n",
    "            return unnested_first_elem + unnested_rest"
   ]
  },
  {
   "cell_type": "code",
   "execution_count": 35,
   "id": "c8602775",
   "metadata": {},
   "outputs": [
    {
     "data": {
      "text/plain": [
       "[1, 2, 2, 3, 5]"
      ]
     },
     "execution_count": 35,
     "metadata": {},
     "output_type": "execute_result"
    }
   ],
   "source": [
    "de_nest([1, 2, [2, 3], 5])"
   ]
  },
  {
   "cell_type": "code",
   "execution_count": 37,
   "id": "4e1d4c4e",
   "metadata": {},
   "outputs": [
    {
     "data": {
      "text/plain": [
       "True"
      ]
     },
     "execution_count": 37,
     "metadata": {},
     "output_type": "execute_result"
    }
   ],
   "source": [
    "s=[[5],[2,[33,[3,3]]],[4],[3,[2,4]]]\n",
    "de_nest(s) == [5, 2, 33, 3, 3, 4, 3, 2, 4]"
   ]
  },
  {
   "cell_type": "markdown",
   "id": "83381107",
   "metadata": {},
   "source": [
    "# Q6"
   ]
  },
  {
   "cell_type": "code",
   "execution_count": 38,
   "id": "3f4068aa",
   "metadata": {},
   "outputs": [],
   "source": [
    "lst = [2, 2, 2, 2] # n = 4\n",
    "count = 0  # O(1) \n",
    "for item in lst:  # repeat n times\n",
    "    if item % 2 == 0:  # O(1)\n",
    "        count += 1 # O(1)\n",
    "        \n",
    "# Best case = O(1) + n * (O(1) + O(1)) = O(1) + n * (O(1)) = O(n)"
   ]
  },
  {
   "cell_type": "markdown",
   "id": "0f11e668",
   "metadata": {},
   "source": [
    "count = sum(\n",
    "    [x % 2 for x in lst] # O()\n",
    ")\n",
    "\n",
    "This is equivalent to the following code: \n",
    "```\n",
    "s = [] # O(1)\n",
    "for x in lst: # repeat n time \n",
    "    s.append(x % 2) # O(1)\n",
    "sum(s) # O(n)\n",
    "```\n",
    "\n",
    "Best worst avg = O(1) + n * (O(1)) + O(n) = O(n) + O(n) = O(n) "
   ]
  },
  {
   "cell_type": "code",
   "execution_count": null,
   "id": "25bdc6e2",
   "metadata": {},
   "outputs": [],
   "source": [
    "for i in range(1, len(lst)): # repeat (n -1) times\n",
    "    for j in range(i): # repeat at most i times\n",
    "        if (lst[j] < lst[i]): # O(1)\n",
    "            break\n",
    "\n",
    "# Worst case = O(n^2)\n",
    "# Best case = O(n)"
   ]
  },
  {
   "cell_type": "code",
   "execution_count": 43,
   "id": "90064b0f",
   "metadata": {},
   "outputs": [
    {
     "name": "stdout",
     "output_type": "stream",
     "text": [
      "[1, 2, 3, 4, 5, 6, 7, 8, 9]\n",
      "[1, 2, 3, 4]\n",
      "[1, 2]\n"
     ]
    }
   ],
   "source": [
    "lst = [1, 2, 3, 4, 5, 6, 7, 8, 9]\n",
    "while len(lst) > 1: # repeat log_2(n) times \n",
    "    lst = lst[:len(lst) //2] # assume slicing is O(1) \n",
    "    \n",
    "# Best, worst, avg = log(n) * O(1) = O(log n)"
   ]
  },
  {
   "cell_type": "code",
   "execution_count": null,
   "id": "77409502",
   "metadata": {},
   "outputs": [],
   "source": [
    "limit = 10\n",
    "def s(lst):\n",
    "    if not lst or if lst[0] > limit:\n",
    "        return 0\n",
    "    else: \n",
    "        smaller = lst[1:]\n",
    "        smaller_solution = s(smaller)\n",
    "        return 1 + smaller_solution\n",
    "        "
   ]
  },
  {
   "cell_type": "code",
   "execution_count": null,
   "id": "2a2f6f7d",
   "metadata": {},
   "outputs": [],
   "source": [
    "def s(lst, limit=10):\n",
    "    if lst and lst[0] <= limit: # O(1)\n",
    "        return 1 + s(lst[1:], limit)\n",
    "    else:\n",
    "        return 0 # O(1)\n",
    "\n",
    "lst = list(range(100000))\n",
    "# Best case is when lst[0] > limit: O(1)\n",
    "# Worst case is O(1) "
   ]
  },
  {
   "cell_type": "code",
   "execution_count": 48,
   "id": "c4ee5aa6",
   "metadata": {},
   "outputs": [],
   "source": [
    "def is_sorted(x):\n",
    "    if len(x) <= 1:\n",
    "        return True\n",
    "    else:\n",
    "        if (x[0] >= x[1]):\n",
    "            return False\n",
    "        else:\n",
    "            return is_sorted(x[1:])"
   ]
  },
  {
   "cell_type": "code",
   "execution_count": 49,
   "id": "77259837",
   "metadata": {},
   "outputs": [
    {
     "data": {
      "text/plain": [
       "False"
      ]
     },
     "execution_count": 49,
     "metadata": {},
     "output_type": "execute_result"
    }
   ],
   "source": [
    "is_sorted([1, 3, 2, 5])"
   ]
  },
  {
   "cell_type": "code",
   "execution_count": null,
   "id": "9ca7ce80",
   "metadata": {},
   "outputs": [],
   "source": []
  }
 ],
 "metadata": {
  "kernelspec": {
   "display_name": "Python 3 (ipykernel)",
   "language": "python",
   "name": "python3"
  },
  "language_info": {
   "codemirror_mode": {
    "name": "ipython",
    "version": 3
   },
   "file_extension": ".py",
   "mimetype": "text/x-python",
   "name": "python",
   "nbconvert_exporter": "python",
   "pygments_lexer": "ipython3",
   "version": "3.9.16"
  }
 },
 "nbformat": 4,
 "nbformat_minor": 5
}
