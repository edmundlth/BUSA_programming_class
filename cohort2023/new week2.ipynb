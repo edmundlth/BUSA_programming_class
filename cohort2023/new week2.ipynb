{
 "cells": [
  {
   "cell_type": "markdown",
   "id": "d6594d2d",
   "metadata": {},
   "source": [
    "---\n",
    "# Week 2\n",
    "----\n",
    "\n"
   ]
  },
  {
   "cell_type": "markdown",
   "id": "e7aad561",
   "metadata": {},
   "source": [
    "# Discussion on Amdahl's Law\n",
    "We will discuss this on the whiteboard.\n",
    "\n",
    "<iframe src=\"https://drive.google.com/file/d/1fP5N-cMGWWU0q66GLWtqimrDZbMQ8D96/preview\" width=\"640\" height=\"480\" allow=\"autoplay\"></iframe>"
   ]
  },
  {
   "cell_type": "code",
   "execution_count": 1,
   "id": "ce24e641",
   "metadata": {},
   "outputs": [
    {
     "data": {
      "text/html": [
       "\n",
       "        <iframe\n",
       "            width=\"700\"\n",
       "            height=\"700\"\n",
       "            src=\"https://drive.google.com/file/d/1fP5N-cMGWWU0q66GLWtqimrDZbMQ8D96/preview\"\n",
       "            frameborder=\"0\"\n",
       "            allowfullscreen\n",
       "            \n",
       "        ></iframe>\n",
       "        "
      ],
      "text/plain": [
       "<IPython.lib.display.IFrame at 0x111d17670>"
      ]
     },
     "execution_count": 1,
     "metadata": {},
     "output_type": "execute_result"
    }
   ],
   "source": [
    "from IPython.display import IFrame\n",
    "IFrame(\"https://drive.google.com/file/d/1fP5N-cMGWWU0q66GLWtqimrDZbMQ8D96/preview\", width=700, height=700)"
   ]
  },
  {
   "cell_type": "markdown",
   "id": "621adfce",
   "metadata": {},
   "source": [
    "# List comprehension\n",
    "Redo some Grok exercises with list comprehension: Grok: W8-12, W9-14, W9-18, W11-13\n",
    "\n",
    " 1. Turn a string into a list of its characters. (there is the obvious `list(string)`) \n",
    " 2. List of prime numbers less than `n`. \n",
    " 3. 2D array `a` where `a[m][n]` is a boolean representing whether `m + 1` is divisible by `n + 1`. \n",
    " 4. Set of \n",
    " 5. Dictionary of... "
   ]
  },
  {
   "cell_type": "markdown",
   "id": "23d8bb60",
   "metadata": {},
   "source": [
    "# Redo some Grok exercises with list comprehension\n",
    "Grok: W8-12, W9-14, W9-18, W11-13\n",
    "\n"
   ]
  },
  {
   "cell_type": "code",
   "execution_count": null,
   "id": "83e2e169",
   "metadata": {},
   "outputs": [],
   "source": [
    "x = set()\n",
    "y = [1, 1, 3, 4]\n",
    "for elem in y:\n",
    "    x.add(elem)\n",
    "x"
   ]
  },
  {
   "cell_type": "code",
   "execution_count": null,
   "id": "6ab770d1",
   "metadata": {},
   "outputs": [],
   "source": [
    "sorted(\"1523\")"
   ]
  },
  {
   "cell_type": "markdown",
   "id": "4f2a9196",
   "metadata": {},
   "source": [
    "Turn a string into a list of its characters. (there is the obvious `list(string)`) "
   ]
  },
  {
   "cell_type": "code",
   "execution_count": null,
   "id": "fabb8cea",
   "metadata": {},
   "outputs": [],
   "source": []
  },
  {
   "cell_type": "markdown",
   "id": "5270f109",
   "metadata": {},
   "source": [
    "List of prime numbers less than `n`. "
   ]
  },
  {
   "cell_type": "code",
   "execution_count": null,
   "id": "0f912beb",
   "metadata": {},
   "outputs": [],
   "source": []
  },
  {
   "cell_type": "markdown",
   "id": "6c89e7f4",
   "metadata": {},
   "source": [
    "2D array `a` where `a[m][n]` is a boolean representing whether `m + 1` is divisible by `n + 1`. "
   ]
  },
  {
   "cell_type": "code",
   "execution_count": null,
   "id": "3c924f79",
   "metadata": {},
   "outputs": [],
   "source": []
  },
  {
   "cell_type": "markdown",
   "id": "c9f3cbcb",
   "metadata": {},
   "source": [
    "## Tricky stuff"
   ]
  },
  {
   "cell_type": "code",
   "execution_count": 1,
   "id": "438fe72b",
   "metadata": {},
   "outputs": [
    {
     "data": {
      "text/plain": [
       "generator"
      ]
     },
     "execution_count": 1,
     "metadata": {},
     "output_type": "execute_result"
    }
   ],
   "source": [
    "# What do you think this would be? \n",
    "y = (x for x in range(3))\n",
    "type(y)"
   ]
  },
  {
   "cell_type": "code",
   "execution_count": 13,
   "id": "d83400e2",
   "metadata": {},
   "outputs": [
    {
     "data": {
      "text/plain": [
       "[0, 1, 2, 3, 4, 5, 6, 7, 8, 9]"
      ]
     },
     "execution_count": 13,
     "metadata": {},
     "output_type": "execute_result"
    }
   ],
   "source": [
    "sorted({i: -i for i in range(10)})"
   ]
  },
  {
   "cell_type": "code",
   "execution_count": 11,
   "id": "1698e7f3",
   "metadata": {},
   "outputs": [
    {
     "data": {
      "text/plain": [
       "9"
      ]
     },
     "execution_count": 11,
     "metadata": {},
     "output_type": "execute_result"
    }
   ],
   "source": [
    "# Some functions naturally acts on \"iterators\", not just list / set / dict. \n",
    "\n",
    "# max(a for a in range(10))\n",
    "\n",
    "# min(i**2 for i in range(3, 10, 2))\n",
    "\n",
    "\n",
    "sorted({i: -i for i in range(10)})"
   ]
  },
  {
   "cell_type": "code",
   "execution_count": 14,
   "id": "9334ffac",
   "metadata": {},
   "outputs": [
    {
     "data": {
      "text/plain": [
       "['hello', 'world,', 'how', 'are', 'you?']"
      ]
     },
     "execution_count": 14,
     "metadata": {},
     "output_type": "execute_result"
    }
   ],
   "source": [
    "\"hello world, how are you?\".split()"
   ]
  },
  {
   "cell_type": "code",
   "execution_count": 15,
   "id": "603c3491",
   "metadata": {},
   "outputs": [
    {
     "name": "stdout",
     "output_type": "stream",
     "text": [
      "5\n",
      "6\n",
      "3\n",
      "3\n",
      "4\n"
     ]
    },
    {
     "data": {
      "text/plain": [
       "[None, None, None, None, None]"
      ]
     },
     "execution_count": 15,
     "metadata": {},
     "output_type": "execute_result"
    }
   ],
   "source": [
    "# What is `x`? \n",
    "x = [print(len(w)) for w in \"hello world, how are you?\".split()]\n",
    "x"
   ]
  },
  {
   "cell_type": "code",
   "execution_count": 17,
   "id": "f5066fbc",
   "metadata": {},
   "outputs": [
    {
     "data": {
      "text/plain": [
       "[0, 1, 3, 4]"
      ]
     },
     "execution_count": 17,
     "metadata": {},
     "output_type": "execute_result"
    }
   ],
   "source": [
    "# What is `x` now? \n",
    "x = [2]\n",
    "x = [num for num in range(5) if num not in x]\n",
    "x"
   ]
  },
  {
   "cell_type": "code",
   "execution_count": 18,
   "id": "c7b06df4",
   "metadata": {},
   "outputs": [],
   "source": [
    "x = [2]\n",
    "for num in range(-5, 5):\n",
    "    if abs(num) not in x:\n",
    "        x.append(num)"
   ]
  },
  {
   "cell_type": "code",
   "execution_count": 19,
   "id": "2da0c8a6",
   "metadata": {},
   "outputs": [
    {
     "data": {
      "text/plain": [
       "[2, -5, -4, -3, -1, 0, 1, 3, 4]"
      ]
     },
     "execution_count": 19,
     "metadata": {},
     "output_type": "execute_result"
    }
   ],
   "source": [
    "x"
   ]
  },
  {
   "cell_type": "code",
   "execution_count": null,
   "id": "e39602ae",
   "metadata": {},
   "outputs": [],
   "source": [
    "def is_prime(n):\n",
    "    \"\"\"\n",
    "    Checks whether a given positive integer is prime.\n",
    "\n",
    "    Parameters:\n",
    "        n (int): A positive integer to check for primality.\n",
    "\n",
    "    Returns:\n",
    "        bool: True if n is prime, False otherwise.\n",
    "    \"\"\"\n",
    "\n",
    "    # Check if n is less than 2\n",
    "    if n < 2:\n",
    "        return False\n",
    "\n",
    "    # Check if n is equal to 2 or 3\n",
    "    if n == 2 or n == 3:\n",
    "        return True\n",
    "\n",
    "    # Check if n is divisible by 2 or 3\n",
    "    if n % 2 == 0 or n % 3 == 0:\n",
    "        return False\n",
    "\n",
    "    # Check if n is divisible by any number between 5 and the square root of n\n",
    "    for i in range(5, int(n**0.5) + 1, 6):\n",
    "        if n % i == 0 or n % (i + 2) == 0:\n",
    "            return False\n",
    "\n",
    "    # If none of the above conditions are met, n is prime\n",
    "    return True\n"
   ]
  },
  {
   "cell_type": "markdown",
   "id": "e3c97967",
   "metadata": {},
   "source": [
    "# RAM vs Disk \n",
    "Below is a comparison of reading from Disk vs from RAM. It is a dumb comparison but nonetheless shows the huge disparity? \n",
    "\n",
    "When would we use which storage? Why? "
   ]
  },
  {
   "cell_type": "code",
   "execution_count": null,
   "id": "9edd73ba",
   "metadata": {},
   "outputs": [],
   "source": [
    "def read_from_file(filename):\n",
    "    with open(filename) as infile:\n",
    "        x = infile.read()\n",
    "    return x\n",
    "\n",
    "%timeit read_from_file(\"./test.txt\")"
   ]
  },
  {
   "cell_type": "code",
   "execution_count": null,
   "id": "82fb6bfc",
   "metadata": {},
   "outputs": [],
   "source": [
    "x = '3\\n1\\n5\\n9\\n6\\n10\\n2\\n'\n",
    "def read_from_mem(numlist):\n",
    "    s = sum(numlist) # we can do a bunch of computation and still be faster than reading from disk. \n",
    "    y = x[::-1] + x[::-1]\n",
    "    return y, s\n",
    "%timeit read_from_mem([3, 5, 9, 6, 10, 2])"
   ]
  },
  {
   "cell_type": "markdown",
   "id": "5065b097",
   "metadata": {},
   "source": [
    "# Stages in Exploring New Library (`numpy`)\n",
    "\n",
    "We explore one way people overcome the restriction of python to speeding up computation by exploring a new library: `numpy`. One way explore a new (well documented library): \n",
    " * Find out what that library is about. (You should already know this if you had decided you need it).\n",
    " * Make a list of things that you think such a library should be able to do. \n",
    "   - By \"do\", we mean \"do without much effort\". We can \"do\" everything with just python, but a library should vastly reduce the effort of doing something  (less lines of code, easier to reason / communicate). \n",
    "   - For each task in your list, come up with a simple example. \n",
    " * Go to their website: https://numpy.org/\n",
    " * Go through their tutorial (or \"Quickstart\"): https://numpy.org/devdocs/user/quickstart.html\n",
    " * Find out how to express and compute the simple examples in your list using the library. \n",
    " * Start using it and find out more advance features by a combination of \n",
    "   - Understanding the purpose of the library (Statistics library should implement statistical algorithms, image libraries should be able to do anything you can think of to do on an image, etc... )\n",
    "   - Reading their documentation: https://numpy.org/devdocs/reference/index.html"
   ]
  },
  {
   "cell_type": "code",
   "execution_count": null,
   "id": "c1249ffd",
   "metadata": {},
   "outputs": [],
   "source": []
  },
  {
   "cell_type": "code",
   "execution_count": null,
   "id": "547edf3b",
   "metadata": {},
   "outputs": [],
   "source": []
  }
 ],
 "metadata": {
  "kernelspec": {
   "display_name": "Python 3 (ipykernel)",
   "language": "python",
   "name": "python3"
  },
  "language_info": {
   "codemirror_mode": {
    "name": "ipython",
    "version": 3
   },
   "file_extension": ".py",
   "mimetype": "text/x-python",
   "name": "python",
   "nbconvert_exporter": "python",
   "pygments_lexer": "ipython3",
   "version": "3.9.16"
  }
 },
 "nbformat": 4,
 "nbformat_minor": 5
}
