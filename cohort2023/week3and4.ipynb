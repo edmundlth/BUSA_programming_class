{
 "cells": [
  {
   "cell_type": "markdown",
   "id": "98eba268",
   "metadata": {},
   "source": [
    "---\n",
    "# Week 3 + 4\n",
    "---\n",
    "\n",
    "MISC: \n",
    " - Resources to study HTML + CSS. (Beware of tutorial hell and bloated tech stacks ....) \n",
    "   - W3C tutorial: https://www.w3schools.com/html/\n",
    "   - Freecodecamp: https://www.freecodecamp.org/news/learn-html-beginners-course/\n",
    "   - Search Google / Youtube. Look for basic HTML and basic CSS. \n",
    " - Software dev practices: \n",
    "   - Make a plan but don't be afraid to change the plan. What modules, functions are needed. What are the input and outputs. \n",
    "   - Start small. And keep the parts small. Don't write gigantic function / module that does a lot of things. \n",
    "   - Write small test cases. \n",
    "   - If you find yourself repeating similar code, \"refactor\" it into reusable module / function. "
   ]
  },
  {
   "cell_type": "markdown",
   "id": "b8a1acef",
   "metadata": {},
   "source": [
    "---\n",
    "# OOP\n",
    "---\n",
    "Possible FAQ: Why OOP?\n",
    "  - Programming paradigm / style are for humans, not for machines. \n",
    "  - Why not something else? Why not stick with assembly, strict imperative, just list, just dict, functional? We just want to arrange code in such a way that *most* people can digest the code faster than otherwise …. (programming paradigm)\n",
    "  - Some other perks of paradigm: tooling (debugger, linter, semantic checks …)"
   ]
  },
  {
   "cell_type": "code",
   "execution_count": 1,
   "id": "8f0d5836",
   "metadata": {},
   "outputs": [],
   "source": [
    "import random\n",
    "import datetime"
   ]
  },
  {
   "cell_type": "code",
   "execution_count": 3,
   "id": "b14d9643",
   "metadata": {},
   "outputs": [
    {
     "ename": "KeyError",
     "evalue": "'id'",
     "output_type": "error",
     "traceback": [
      "\u001b[0;31m---------------------------------------------------------------------------\u001b[0m",
      "\u001b[0;31mKeyError\u001b[0m                                  Traceback (most recent call last)",
      "Input \u001b[0;32mIn [3]\u001b[0m, in \u001b[0;36m<cell line: 26>\u001b[0;34m()\u001b[0m\n\u001b[1;32m     23\u001b[0m         \u001b[38;5;28;01mraise\u001b[39;00m \u001b[38;5;167;01mValueError\u001b[39;00m\n\u001b[1;32m     24\u001b[0m     \u001b[38;5;28;01mreturn\u001b[39;00m has_same_id\n\u001b[0;32m---> 26\u001b[0m \u001b[43mis_same_student\u001b[49m\u001b[43m(\u001b[49m\u001b[43mstudent1\u001b[49m\u001b[43m,\u001b[49m\u001b[43m \u001b[49m\u001b[43mstudent2\u001b[49m\u001b[43m)\u001b[49m\n",
      "Input \u001b[0;32mIn [3]\u001b[0m, in \u001b[0;36mis_same_student\u001b[0;34m(student1, student2)\u001b[0m\n\u001b[1;32m     19\u001b[0m \u001b[38;5;28;01mdef\u001b[39;00m \u001b[38;5;21mis_same_student\u001b[39m(student1, student2):\n\u001b[0;32m---> 20\u001b[0m     has_same_id \u001b[38;5;241m=\u001b[39m student1[\u001b[38;5;124m\"\u001b[39m\u001b[38;5;124mid\u001b[39m\u001b[38;5;124m\"\u001b[39m] \u001b[38;5;241m==\u001b[39m \u001b[43mstudent2\u001b[49m\u001b[43m[\u001b[49m\u001b[38;5;124;43m\"\u001b[39;49m\u001b[38;5;124;43mid\u001b[39;49m\u001b[38;5;124;43m\"\u001b[39;49m\u001b[43m]\u001b[49m\n\u001b[1;32m     21\u001b[0m     has_same_name \u001b[38;5;241m=\u001b[39m student1[\u001b[38;5;124m\"\u001b[39m\u001b[38;5;124mname\u001b[39m\u001b[38;5;124m\"\u001b[39m] \u001b[38;5;241m==\u001b[39m student2[\u001b[38;5;124m\"\u001b[39m\u001b[38;5;124mname\u001b[39m\u001b[38;5;124m\"\u001b[39m]\n\u001b[1;32m     22\u001b[0m     \u001b[38;5;28;01mif\u001b[39;00m has_same_id \u001b[38;5;129;01mand\u001b[39;00m (\u001b[38;5;129;01mnot\u001b[39;00m has_same_name):\n",
      "\u001b[0;31mKeyError\u001b[0m: 'id'"
     ]
    }
   ],
   "source": [
    "# How would you store details about a student? \n",
    "# We could use list, but we need to remember which index correspond to which info. \n",
    "# It could be error prone....\n",
    "# We could use dictionary. But could you tell what went wrong in the student record below? \n",
    "student1 = {\n",
    "    \"name\": \"John Doe\", \n",
    "    \"age\": 16, \n",
    "    \"id\": 4814057, \n",
    "    \"attendence\": [\"12/01/2023\", \"11/25/2023\"], \n",
    "    \"subjects\": [\"How to survive MBS\", \"Python programming\", \"SQL\"], \n",
    "}\n",
    "student2 = {\n",
    "    \"Name\": \"Jane Doe\", \n",
    "    \"age\": 17, \n",
    "    \"ID\": 124587124, \n",
    "    \"attend\": [], \n",
    "    \"subject\": [\"How to survive MBS\", \"Python programming\", \"SQL\"], \n",
    "}\n",
    "\n",
    "def is_same_student(student1, student2):\n",
    "    has_same_id = student1[\"id\"] == student2[\"id\"]\n",
    "    has_same_name = student1[\"name\"] == student2[\"name\"]\n",
    "    if has_same_id and (not has_same_name):\n",
    "        raise ValueError\n",
    "    return has_same_id\n",
    "\n",
    "is_same_student(student1, student2)"
   ]
  },
  {
   "cell_type": "code",
   "execution_count": 24,
   "id": "665b147c",
   "metadata": {},
   "outputs": [],
   "source": [
    "# How can we do this more systematically? \n",
    "# What else do you think this class should record / be able to do? \n",
    "# Pretty printing\n",
    "# Checking equality\n",
    "# Sorting. \n",
    "# Other suggestion? How would you implement a \"friend request\" feature? \n",
    "\n",
    "\n",
    "\n",
    "class Student(object):\n",
    "    \n",
    "    def __init__(self, \n",
    "                 name, \n",
    "                 age=None, \n",
    "                 birth_year=None, \n",
    "                 idnum=None, \n",
    "                 first_name=None, \n",
    "                 last_name=None\n",
    "        ):\n",
    "        self.name = name\n",
    "        self.first_name = first_name\n",
    "        self.last_name = last_name\n",
    "\n",
    "        self.birth_year = birth_year\n",
    "        self.age = age        \n",
    "        if idnum is None:\n",
    "            self.id = random.randint(0, 100000)\n",
    "        else:\n",
    "            self.id = idnum\n",
    "\n",
    "        self.attendence = []\n",
    "    \n",
    "    # what is the difference between method and functions? \n",
    "    def get_age(self):\n",
    "        current_year = datetime.datetime.now().year\n",
    "        if self.age is not None:\n",
    "            return self.age\n",
    "        elif self.birth_year is not None:\n",
    "            return current_year - self.birth_year\n",
    "        else:\n",
    "            raise ValueError(\"Age not determined. \")\n",
    "    \n",
    "    def record_attendence(self, date):\n",
    "        self.attendence.append(date) # add date formatting here. \n",
    "        return \n",
    "    \n",
    "    def is_first_last_format(self):\n",
    "        return self.name.split(' ') == [self.first_name, self.last_name]\n",
    "    \n",
    "#     def __lt__(self, other):\n",
    "#         return self.age < other.age\n",
    "    \n",
    "    def __eq__(self, other):\n",
    "        return self.id == other.id\n",
    "    \n",
    "#     def __le__(self, other):\n",
    "#         return self.name <= other.name\n",
    "    \n",
    "#     def __lt__(self, other):\n",
    "#         return self.name < other.name\n",
    "    \n",
    "    def __repr__(self):\n",
    "        return f\"Student(name={self.name}, age={self.age}, num attend={len(self.attendence)})\"\n",
    "\n",
    "student1 = Student(\"John Doe\", birth_year=1995, idnum=12345)\n",
    "student2 = Student(\"Jane Doe\", birth_year=1994)\n",
    "student3 = Student(\"John Doe\", birth_year=1995, idnum=12345)\n",
    "# student2 >= student1"
   ]
  },
  {
   "cell_type": "code",
   "execution_count": 25,
   "id": "26905077",
   "metadata": {},
   "outputs": [
    {
     "name": "stdout",
     "output_type": "stream",
     "text": [
      "Student(\n",
      "name=John Doe, \n",
      "age=None, \n",
      "num attend=0)\n"
     ]
    }
   ],
   "source": [
    "print(student1)"
   ]
  },
  {
   "cell_type": "markdown",
   "id": "94c92b9b",
   "metadata": {},
   "source": [
    "# File and File formats\n",
    "- What is a file:\n",
    "    - A finite sequence of 8 bit bytes …\n",
    "    - Something your OS recognise as a file.\n",
    "    - Something you can access using Python’s `open()` function.\n",
    "- Why file format?\n",
    "    - Machines need to negotiate how to interpret data.\n",
    "    - Text: html, plain text, python, c, ... (need not be human readable)\n",
    "    - Images: png (there was an interesting bug about this format in 2023), jpeg, tiff\n",
    "    - Compressed: gzip\n",
    "    - Audio: mp3, wav\n",
    "    - File name extension.\n",
    "    \n",
    "- Discuss: \n",
    "  - Why don't `open()` just return the entire content of the file instead of going through this `.tell(), .seek(), .read()` business? \n",
    "  - What could go wrong if we forget to close a file handle? \n",
    "- Demo CSV files"
   ]
  },
  {
   "cell_type": "markdown",
   "id": "542761d3",
   "metadata": {},
   "source": [
    "## CSV demo\n",
    "\n",
    "1. What is a csv? \n",
    "2. What should we expect the `CSV` module to do? (and how do we find out if it does that?)\n",
    "3. Demo"
   ]
  },
  {
   "cell_type": "code",
   "execution_count": 32,
   "id": "8bb7d707",
   "metadata": {},
   "outputs": [
    {
     "name": "stdout",
     "output_type": "stream",
     "text": [
      "[['Science', '07/15/2022', 'Friday', 'John Smith', '123456', '15'], ['History', '12/21/2022', 'Wednesday', 'Bob Johnson', '987654', '14'], ['Mathematics', '06/16/2022', 'Thursday', 'Jane Doe', '654321', '16'], ['Social Studies', '06/11/2022', 'Saturday', 'Bob Johnson', '987654', '14'], ['Science', '12/13/2022', 'Tuesday', 'Jane Doe', '654321', '16'], ['English', '09/27/2022', 'Tuesday', 'Bob Johnson', '987654', '14'], ['Science', '09/21/2022', 'Wednesday', 'John Smith', '123456', '15'], ['History', '11/11/2022', 'Friday', 'John Smith', '123456', '15'], ['Social Studies', '07/25/2022', 'Monday', 'Bob Johnson', '987654', '14'], ['Mathematics', '04/11/2022', 'Monday', 'John Smith', '123456', '15']]\n",
      "Average age = 14.846153846153847\n"
     ]
    }
   ],
   "source": [
    "# How to read in csv into a list of lists? \n",
    "# What could potentially go wrong in this code? \n",
    "\n",
    "# The task is to read in the data in `rand_student.csv` into a python list of lists. \n",
    "# Also, print out the average age of the students on record. \n",
    "# What are the mistakes made in the following? \n",
    "\n",
    "\n",
    "import csv\n",
    "\n",
    "file = open(\"rand_student.csv\") # mistake \n",
    "reader = csv.reader(file)\n",
    "header = next(reader)\n",
    "raw_data = [row for row in reader] # bad design \n",
    "\n",
    "ages = []\n",
    "student_ids = []\n",
    "for row in raw_data: \n",
    "    idnum = row[-2]\n",
    "    age = int(row[-1])\n",
    "    if idnum not in student_ids:\n",
    "        student_ids.append(idnum)\n",
    "        ages.append(age)\n",
    "    \n",
    "    ages.append(age)\n",
    "\n",
    "# another mistake \n",
    "file.close()\n",
    "\n",
    "\n",
    "print(raw_data)\n",
    "print(f\"Average age = {sum(ages) / len(ages)}\") # won't work. "
   ]
  },
  {
   "cell_type": "code",
   "execution_count": null,
   "id": "bc49bf04",
   "metadata": {},
   "outputs": [],
   "source": [
    "# Correct code\n",
    "import csv\n",
    "\n",
    "file = open(\"rand_student.csv\") # default is \"r\"-mode. be VERY CAREFUL about 'w'-mode. \n",
    "reader = csv.reader(file)\n",
    "header = next(reader)\n",
    "raw_data = [row for row in reader]\n",
    "file.close() # we have finished using the file! Close it as soon as possible! \n",
    "\n",
    "ages = []\n",
    "student_ids = []\n",
    "for row in raw_data: #what happen if we do `for row in reader:` here again? \n",
    "    age = int(row[-1])\n",
    "    idnum = int(row[-2])\n",
    "    if idnum not in student_ids:\n",
    "        student_ids.append(idnum)\n",
    "        ages.append(age)\n",
    "\n",
    "\n",
    "print(header)\n",
    "print(raw_data)\n",
    "print(f\"Average age = {sum(ages) / len(ages)}\")\n",
    "\n",
    "    \n"
   ]
  },
  {
   "cell_type": "code",
   "execution_count": null,
   "id": "4a3802a8",
   "metadata": {},
   "outputs": [],
   "source": [
    "# Using `with` context manager. \n",
    "import csv\n",
    "raw_data = []\n",
    "with open(\"rand_student.csv\") as infile: \n",
    "    reader = csv.reader(infile)\n",
    "    header = next(reader)\n",
    "    raw_data = [row for row in reader]\n",
    "\n",
    "ages = []\n",
    "student_ids = []\n",
    "for row in raw_data:\n",
    "    age = int(row[-1]) # what if we don't know the index? \n",
    "    idnum = int(row[-2])\n",
    "    if idnum not in student_ids:\n",
    "        student_ids.append(idnum)\n",
    "        ages.append(age)\n",
    "\n",
    "print(header)\n",
    "print(raw_data)\n",
    "print(f\"Average age = {sum(ages) / len(ages)}\")\n"
   ]
  },
  {
   "cell_type": "code",
   "execution_count": null,
   "id": "f17e3e79",
   "metadata": {},
   "outputs": [],
   "source": [
    "# csv.DictReader demo\n",
    "\n",
    "import csv\n",
    "ages = []\n",
    "student_ids = []\n",
    "raw_data = []\n",
    "with open(\"rand_student.csv\") as infile: \n",
    "    dictreader = csv.DictReader(infile)\n",
    "    header = next(dictreader) # mistake\n",
    "    for row in dictreader:\n",
    "        raw_data.append(row)\n",
    "        age = int(row[\"age\"])\n",
    "        idnum = int(row[\"id\"])\n",
    "        if idnum not in student_ids:\n",
    "            student_ids.append(idnum)\n",
    "            ages.append(age)\n",
    "\n",
    "print(raw_data)\n",
    "print(f\"Average age = {sum(ages) / len(ages)}\")\n",
    "\n",
    "        "
   ]
  },
  {
   "cell_type": "code",
   "execution_count": null,
   "id": "7380b057",
   "metadata": {},
   "outputs": [],
   "source": [
    "# Using Student object\n",
    "\n",
    "import csv\n",
    "students = []\n",
    "with open(\"rand_student.csv\") as infile: \n",
    "    dictreader = csv.DictReader(infile)\n",
    "    for row in dictreader:\n",
    "        s = Student(row[\"name\"], row[\"age\"], row[\"id\"])\n",
    "        s.record_attendence(row[\"date\"])\n",
    "        students.append(s)\n",
    "students"
   ]
  },
  {
   "cell_type": "code",
   "execution_count": null,
   "id": "65ccf009",
   "metadata": {},
   "outputs": [],
   "source": [
    "import csv\n",
    "students = []\n",
    "with open(\"rand_student.csv\") as infile: \n",
    "    reader = csv.reader(infile)\n",
    "    header = next(reader)\n",
    "    for row in reader:\n",
    "        date = row[1]\n",
    "        idnum = int(row[-2])\n",
    "        age = int(row[-1])\n",
    "        name = row[-3]\n",
    "        s = Student(name, age, idnum)\n",
    "        s.record_attendence(date)\n",
    "        students.append(s)\n",
    "sorted(students)"
   ]
  },
  {
   "cell_type": "markdown",
   "id": "e3c97967",
   "metadata": {},
   "source": [
    "## RAM vs Disk \n",
    "Below is a comparison of reading from Disk vs from RAM. It is a dumb comparison but nonetheless shows the huge disparity. \n",
    "\n",
    "When would we use which storage? Why? \n",
    "When do we want to read from / store to file? Why? "
   ]
  },
  {
   "cell_type": "code",
   "execution_count": 33,
   "id": "9edd73ba",
   "metadata": {},
   "outputs": [
    {
     "name": "stdout",
     "output_type": "stream",
     "text": [
      "10.8 µs ± 52.7 ns per loop (mean ± std. dev. of 7 runs, 100,000 loops each)\n"
     ]
    }
   ],
   "source": [
    "def read_from_file(filename):\n",
    "    with open(filename) as infile:\n",
    "        x = infile.read()\n",
    "    return x\n",
    "\n",
    "%timeit read_from_file(\"./test.txt\")"
   ]
  },
  {
   "cell_type": "code",
   "execution_count": 34,
   "id": "82fb6bfc",
   "metadata": {},
   "outputs": [
    {
     "name": "stdout",
     "output_type": "stream",
     "text": [
      "275 ns ± 1.06 ns per loop (mean ± std. dev. of 7 runs, 1,000,000 loops each)\n"
     ]
    }
   ],
   "source": [
    "x = '3\\n1\\n5\\n9\\n6\\n10\\n2\\n'\n",
    "def read_from_mem(numlist):\n",
    "    s = sum(numlist) # we can do a bunch of computation and still be faster than reading from disk. \n",
    "    y = x[::-1] + x[::-1]\n",
    "    return y, s\n",
    "%timeit read_from_mem([3, 5, 9, 6, 10, 2])"
   ]
  },
  {
   "cell_type": "code",
   "execution_count": null,
   "id": "6c049d0f",
   "metadata": {},
   "outputs": [],
   "source": []
  }
 ],
 "metadata": {
  "kernelspec": {
   "display_name": "Python 3 (ipykernel)",
   "language": "python",
   "name": "python3"
  },
  "language_info": {
   "codemirror_mode": {
    "name": "ipython",
    "version": 3
   },
   "file_extension": ".py",
   "mimetype": "text/x-python",
   "name": "python",
   "nbconvert_exporter": "python",
   "pygments_lexer": "ipython3",
   "version": "3.9.16"
  }
 },
 "nbformat": 4,
 "nbformat_minor": 5
}
