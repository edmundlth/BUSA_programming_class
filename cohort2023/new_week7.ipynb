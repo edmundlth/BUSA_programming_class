{
 "cells": [
  {
   "cell_type": "markdown",
   "id": "4a712ce0",
   "metadata": {},
   "source": [
    "# Asymptotics (Big-O)\n",
    "---\n",
    "## Definition of $f(n) = O(g(n))$. \n",
    "Given two functions $f: \\mathbb{N} \\to \\mathbb{N}$, and $g: \\mathbb{N} \\to \\mathbb{N}$, we say $f(n) = O(g(n))$ if **there exist** a (strictly!) positive constant $C > 0$ and $N > 0$ such that whenever $n > N$, we have $f(n) \\leq C g(n)$. \n",
    "\n",
    "Translating the math talk: We say \"$f(n)$ is of order at most $g(n)$\", when after some cutoff point $N$, $f(n)$ is always smaller than some constant $C$ times $g(n)$. The \"there exist\" in the definition is significant, it signifies that we just need to find some $C$ and $N$ that works, their exact values does not matter and there might be many that works. This allows us to talk about \"large-$n$\" behaviour of a function $f(n)$, we want to know how $f$ behaves when $n$ is \"large enough\" (when it exceeds $N$).\n",
    "\n",
    "\n",
    "# Warm up exercise: \n",
    "You might frequently hear people talking about the \"order\" of function, and that can be make precise by the definition above. Let's find the \"order\" of the following functions: \n",
    "  - $f_1(n) = n - 10000000$: ans $O(n)$\n",
    "  - $n / (n + 1)$: $O(1)$\n",
    "  - $n^2 / (n + 1)$: $O(n)$\n",
    "  - $n^a / (n^b + 1)$: $O(n^{a - b})$\n",
    "    \n",
    "As we will show below, if something is order $n$, it is also order $n^2$. In fact, $f(n) = O(n^{1013415})$ and $f(n) = O(n^3)$ and $f(n) = O(2^n)$. When people talk about \"order\", the usually mean the \"smallest\" function you can compare the given function to and still retain the **inequality** in the definition above for large enough $n$. (Technically, we are asking for **both** $f(n) = O(g(n))$ **and** $g(n) = O(f(n))$). \n",
    "\n",
    "The following is a sort of \"scale\" that people use to compare functions. If you like, you should check that any function $f(n)$ is $O(g(n))$ whenever $g$ is higher up on the scaler (need not be next to each other. This is sometimes called the \"Order hierarchy\"\n",
    "  $$.. << 1 << \\log \\log n << \\log n << n^{1 - k} << n << n^{1 + k} << 2^n << n! << n^n << ackermann(n, n) \\dots$$\n",
    "\n",
    "1. Prove/Show that if $f(n) = O(1)$ and $g(n) = O(1)$ then $f(n) + g(n) = O(1)$.\n",
    "Lets be a little brain dead and just slavishly unwind definition until we hit something glaringly obvious to prove: \n",
    "We want to show if $f(n) = O(1)$ and $g(n) = O(1)$ then $f(n) + g(n) = O(1)$.  \n",
    "So, assume $f(n) = O(1)$ and $g(n) = O(1)$.  \n",
    "This means \n",
    " * there exist some positive constants $C, N > 0$ such that when $n > N$, $f(n) \\leq C$ \n",
    " * there exist some positive constants $C', N' > 0$ such that when $n > N'$, $g(n) \\leq C'$ \n",
    "\n",
    "(Note: \"there exist\" here means we can now use these variables, they are now in our \"namespace\" so to speak.)\n",
    "And our goal is to show $f(n) + g(n) = O(1)$.  \n",
    "That is to show there exist positive constants $C'', N'' > 0$ such that when $n > N''$, $f(n) + g(n) \\leq C''$.  \n",
    "To show something exist, we just need to find one. I hope it is clear here that if we set \n",
    "  * $N'' = \\max{N, N'}$\n",
    "  * $C'' = C + C'$ \n",
    "\n",
    "then we can now arrive at the conclusion needed, which is: when $n > N''$, we have $n$ greater than both $N$ and $N'$, so $f(n) \\leq C$ and $g(n) \\leq C'$ holds, so that \n",
    "$$ f(n) + g(n) \\leq C + C' = C''$$\n",
    "as is to be shown. \n",
    "\n",
    "\n",
    "2. Prove/Show that if $f(n) = O(1)$ and it is repeated $n$ times the total time is $O(n)$.\n",
    "\n",
    "Let's do the samething again.  \n",
    "To show if $f(n) = O(1)$ and it is repeated $n$ times the total time is $O(n)$.  \n",
    "Assume $f(n) = O(1)$, meaning there exist $C, N > 0$ such that when $n > N$, $f(n) \\leq C$.  \n",
    "To show that $f(n) + f(n) + ...n \\text{ times } + f(n) = n * f(n)$ is $O(n)$.   \n",
    "That is, to show there exist $C', N'$ such that when $n > N'$, $n * f(n) \\leq C * n$.  \n",
    "Let us set $N' = N$ and $C' = C$ and when $n > N'$, we have the inequality\n",
    "$$ f(n) \\leq C \\implies n * f(n) \\leq C * n$$\n",
    "which is what we want to show. \n",
    "\n",
    "\n",
    "\n",
    "3. Prove/Show that if $f(n) = O(n)$ it is also $O(n^2)$. (A graphical demonstration will suffice for those not into algebra.)\n",
    "\n",
    "I am just going to copy-and-paste the above and change a few things. This time we can use $C' = C$ and $N' = N$ again.  \n",
    "To show if $f(n) = O(n)$ and it is also O(n^2)$.  \n",
    "\n",
    "Assume $f(n) = O(n)$, meaning there exist $C, N > 0$ such that when $n > N$, $f(n) \\leq C n$.  \n",
    "\n",
    "To show that $f(n) = O(n^2)$.   \n",
    "\n",
    "That is, to show there exist $C', N'$ such that when $n > N'$, $f(n) \\leq C * n^2$.  \n",
    "\n",
    "Let us set $N' = N$ and $C' = C$ and when $n > N'$, we have the inequality $f(n) \\leq C * n$. And multiply the right hand side by a positive number $n$ preserve the inequality, so $$ f(n) \\leq C * n \\implies f(n) \\leq C * n * n = Cn^2$$ which is what we want to show. \n",
    "\n",
    "4. Prove/Show that if $f(n) = O(1)$ and $g(n) = O(n)$ then $f(n)+g(n) = O(n)$. \n",
    "5. Challenge: more generally, prove $O(f(n)) + O(g(n)) = O(max(f(n), g(n)))$\n",
    "\n",
    "\n",
    "Some rule-of-thumb when thinking about large-$n$ asymptotics: \n",
    " - Constants don't matter (whether it is multiplicative or additive).\n",
    " - Lower order terms don't matter. (\"term\" = part of a sum). \n",
    " - Small $n$ behaviour doesn't matter. "
   ]
  },
  {
   "cell_type": "markdown",
   "id": "e7322986",
   "metadata": {},
   "source": [
    "# Motivation\n",
    "This is how bad a sorting algorithm can be."
   ]
  },
  {
   "cell_type": "code",
   "execution_count": 2,
   "id": "cd1ac030",
   "metadata": {},
   "outputs": [
    {
     "data": {
      "text/plain": [
       "[1, 2, 3, 4]"
      ]
     },
     "execution_count": 2,
     "metadata": {},
     "output_type": "execute_result"
    }
   ],
   "source": [
    "import random\n",
    "def check_sorted(x):\n",
    "    for i in range(len(x) -1):\n",
    "        if x[i] > x[i + 1]:\n",
    "            return False\n",
    "    return True\n",
    "\n",
    "def bogosort(x):\n",
    "    while not check_sorted(x):\n",
    "        random.shuffle(x)\n",
    "    return x\n",
    "\n",
    "\n",
    "x = [2, 1, 4, 3]\n",
    "bogosort(x)\n",
    "    \n",
    "    "
   ]
  },
  {
   "cell_type": "markdown",
   "id": "873c385c",
   "metadata": {},
   "source": [
    "# Algorithm runtime complexity\n",
    "\n",
    "Find the \n",
    " 1. Best\n",
    " 2. Average\n",
    " 3. Worse\n",
    "\n",
    "\n",
    "case runtime complexity of the following programs as a function of `n`. "
   ]
  },
  {
   "cell_type": "code",
   "execution_count": null,
   "id": "7557c027",
   "metadata": {},
   "outputs": [],
   "source": [
    "n = 5\n",
    "\n",
    "for i in range(n): # repeat n times\n",
    "    print(i)  # Figure out run time needed for body -> O(1)\n",
    "# ans = number of time for loop runs x run time for body = n x O(1) = O(n)"
   ]
  },
  {
   "cell_type": "code",
   "execution_count": null,
   "id": "3eb70e8e",
   "metadata": {},
   "outputs": [],
   "source": [
    "n = 10\n",
    "for i in range(n):\n",
    "    # body of outer loop is also repeated n times\n",
    "    \n",
    "    for j in range(n): # inner loop runs n times, so inner loop is O(n)\n",
    "        print(i) # This is O(1) \n",
    "# Total run time = n * (n * O(1)) = n * O(n) = O(n^2)"
   ]
  },
  {
   "cell_type": "code",
   "execution_count": null,
   "id": "c469770d",
   "metadata": {},
   "outputs": [],
   "source": [
    "n = 20\n",
    "\n",
    "a = [1 for i in range(n)] # O(n)\n",
    "for i in a: # repeat n times\n",
    "    print(i) # O(1)\n",
    "    \n",
    "# total = O(n) + n * O(1) = O(n) + O(n) = O(n)"
   ]
  },
  {
   "cell_type": "code",
   "execution_count": 176,
   "id": "5fe5d77d",
   "metadata": {},
   "outputs": [
    {
     "name": "stdout",
     "output_type": "stream",
     "text": [
      "0\n",
      "1\n"
     ]
    }
   ],
   "source": [
    "n = 2\n",
    "\n",
    "if n % 2 == 0: # O(1)\n",
    "    for j in range(n): # repeat n times\n",
    "        print(j) # O(1)\n",
    "\n",
    "        \n",
    "# If n even, time = O(n)\n",
    "# If n odd, time = O(1)\n",
    "\n",
    "# Best, average, worst\n",
    "# O(1),         , O(n)\n",
    "# Extension: can the average case be different? "
   ]
  },
  {
   "cell_type": "code",
   "execution_count": 161,
   "id": "0ffc8c9e",
   "metadata": {},
   "outputs": [],
   "source": [
    "import random\n",
    "n = 30\n",
    "if random.randint(1, 10) % 2 == 0:\n",
    "    for j in range(n):\n",
    "        print(i)\n",
    "# Best = O(1)\n",
    "# Average = 1/2 * O(1) + 1/2 * O(n) = O(1) + O(n) = O(n)\n",
    "# Worst = O(n)"
   ]
  },
  {
   "cell_type": "code",
   "execution_count": 166,
   "id": "a616ec49",
   "metadata": {},
   "outputs": [
    {
     "data": {
      "text/plain": [
       "[-1, 1, 4, 10]"
      ]
     },
     "execution_count": 166,
     "metadata": {},
     "output_type": "execute_result"
    }
   ],
   "source": [
    "def sn(s): # let n = len(s)\n",
    "    for i in range(1, len(s)): # repeat n times\n",
    "        val = s[i]\n",
    "        j = i - 1\n",
    "        while (j >= 0) and (s[j] > val): # repeat i times\n",
    "            s[j+1] = s[j]\n",
    "            j = j - 1\n",
    "        s[j+1] = val\n",
    "    return\n",
    "        \n",
    "x = [1, 4, -1, 10] \n",
    "sn(x)\n",
    "x\n",
    "\n",
    "\n",
    "# Extension: \n",
    "#  - Bogosort\n",
    "#  - What is the time complexity of merge-sort? \n",
    "#  - When would one prefer merge-sort to insertion sort? \n"
   ]
  },
  {
   "cell_type": "markdown",
   "id": "e62d3058",
   "metadata": {},
   "source": [
    "---\n",
    "# Extension Questions\n",
    "---"
   ]
  },
  {
   "cell_type": "markdown",
   "id": "66bd91e9",
   "metadata": {},
   "source": [
    "### (very challenging)\n",
    "Find the time complexity for each of the following algorithms as a function of the length of the input list `x`. "
   ]
  },
  {
   "cell_type": "code",
   "execution_count": 153,
   "id": "8a4656a4",
   "metadata": {},
   "outputs": [],
   "source": [
    "def binsearch(x, elem):\n",
    "    \"\"\"\n",
    "    Given a sorted non-empty list x, and an element that is x[0] <= elem <= x[-1], \n",
    "    search for the first index i such that elem >= x[i]. \n",
    "    \"\"\"\n",
    "    low = 0\n",
    "    high = len(x) -1\n",
    "    while low < high:\n",
    "        mid1 = (low + high) // 2\n",
    "        mid2 = mid1 + 1\n",
    "        if elem > x[mid2]:\n",
    "            low = mid2\n",
    "        elif elem == x[mid2]:\n",
    "            return mid2\n",
    "        else: # case: elem < x[mid2]\n",
    "            if elem >= x[mid1]:\n",
    "                return mid1\n",
    "            else: # case: elem < x[mid1]\n",
    "                high = mid1\n",
    "    return low\n",
    "\n",
    "\n",
    "def sort(x):\n",
    "    if len(x) <= 1:\n",
    "        return x\n",
    "    rest = sort(x[1:])\n",
    "    print(x[0], rest)\n",
    "    i = 0\n",
    "    while i < len(rest) and rest[i] < x[0]:\n",
    "        i += 1\n",
    "    return rest[:i] + [x[0]] + rest[i:]\n",
    "\n",
    "\n",
    "def sort2(x):\n",
    "    if len(x) <= 1:\n",
    "        return x\n",
    "    rest = sort2(x[1:])\n",
    "    if x[0] < rest[0]:\n",
    "        return [x[0]] + rest\n",
    "    elif x[0] > rest[-1]:\n",
    "        return rest + [x[0]]\n",
    "    else:\n",
    "        index = binsearch(rest, x[0]) + 1\n",
    "        return rest[:index] + [x[0]] + rest[index:]\n"
   ]
  },
  {
   "cell_type": "code",
   "execution_count": null,
   "id": "82208d59",
   "metadata": {},
   "outputs": [],
   "source": []
  },
  {
   "cell_type": "code",
   "execution_count": null,
   "id": "7a8ce970",
   "metadata": {},
   "outputs": [],
   "source": []
  }
 ],
 "metadata": {
  "kernelspec": {
   "display_name": "Python 3 (ipykernel)",
   "language": "python",
   "name": "python3"
  },
  "language_info": {
   "codemirror_mode": {
    "name": "ipython",
    "version": 3
   },
   "file_extension": ".py",
   "mimetype": "text/x-python",
   "name": "python",
   "nbconvert_exporter": "python",
   "pygments_lexer": "ipython3",
   "version": "3.9.16"
  }
 },
 "nbformat": 4,
 "nbformat_minor": 5
}
